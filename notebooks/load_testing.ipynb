{
 "cells": [
  {
   "cell_type": "code",
   "execution_count": 1,
   "metadata": {},
   "outputs": [],
   "source": [
    "%load_ext autoreload\n",
    "%autoreload 2"
   ]
  },
  {
   "cell_type": "code",
   "execution_count": 2,
   "metadata": {},
   "outputs": [],
   "source": [
    "%matplotlib inline\n",
    "import matplotlib.pyplot as plt\n",
    "import numpy as np"
   ]
  },
  {
   "cell_type": "code",
   "execution_count": 3,
   "metadata": {},
   "outputs": [
    {
     "name": "stdout",
     "output_type": "stream",
     "text": [
      "dict_keys(['__header__', '__version__', '__globals__', 'FIELD_PARAMS', 'intensity'])\n"
     ]
    }
   ],
   "source": [
    "from scipy.io import loadmat\n",
    "import pathlib\n",
    "import fem\n",
    "project_path = pathlib.Path(fem.__file__).parents[1]\n",
    "# mat = loadmat(project_path / 'loads' / 'test_load_full_extent.mat')\n",
    "mat = loadmat(project_path / 'loads' / 'f2dout.mat')\n",
    "print(mat.keys())"
   ]
  },
  {
   "cell_type": "code",
   "execution_count": 4,
   "metadata": {},
   "outputs": [
    {
     "name": "stdout",
     "output_type": "stream",
     "text": [
      "{'lat': array([-0.02  , -0.0198, -0.0196, -0.0194, -0.0192, -0.019 , -0.0188,\n",
      "       -0.0186, -0.0184, -0.0182, -0.018 , -0.0178, -0.0176, -0.0174,\n",
      "       -0.0172, -0.017 , -0.0168, -0.0166, -0.0164, -0.0162, -0.016 ,\n",
      "       -0.0158, -0.0156, -0.0154, -0.0152, -0.015 , -0.0148, -0.0146,\n",
      "       -0.0144, -0.0142, -0.014 , -0.0138, -0.0136, -0.0134, -0.0132,\n",
      "       -0.013 , -0.0128, -0.0126, -0.0124, -0.0122, -0.012 , -0.0118,\n",
      "       -0.0116, -0.0114, -0.0112, -0.011 , -0.0108, -0.0106, -0.0104,\n",
      "       -0.0102, -0.01  , -0.0098, -0.0096, -0.0094, -0.0092, -0.009 ,\n",
      "       -0.0088, -0.0086, -0.0084, -0.0082, -0.008 , -0.0078, -0.0076,\n",
      "       -0.0074, -0.0072, -0.007 , -0.0068, -0.0066, -0.0064, -0.0062,\n",
      "       -0.006 , -0.0058, -0.0056, -0.0054, -0.0052, -0.005 , -0.0048,\n",
      "       -0.0046, -0.0044, -0.0042, -0.004 , -0.0038, -0.0036, -0.0034,\n",
      "       -0.0032, -0.003 , -0.0028, -0.0026, -0.0024, -0.0022, -0.002 ,\n",
      "       -0.0018, -0.0016, -0.0014, -0.0012, -0.001 , -0.0008, -0.0006,\n",
      "       -0.0004, -0.0002,  0.    ,  0.0002,  0.0004,  0.0006,  0.0008,\n",
      "        0.001 ,  0.0012,  0.0014,  0.0016,  0.0018,  0.002 ,  0.0022,\n",
      "        0.0024,  0.0026,  0.0028,  0.003 ,  0.0032,  0.0034,  0.0036,\n",
      "        0.0038,  0.004 ,  0.0042,  0.0044,  0.0046,  0.0048,  0.005 ,\n",
      "        0.0052,  0.0054,  0.0056,  0.0058,  0.006 ,  0.0062,  0.0064,\n",
      "        0.0066,  0.0068,  0.007 ,  0.0072,  0.0074,  0.0076,  0.0078,\n",
      "        0.008 ,  0.0082,  0.0084,  0.0086,  0.0088,  0.009 ,  0.0092,\n",
      "        0.0094,  0.0096,  0.0098,  0.01  ,  0.0102,  0.0104,  0.0106,\n",
      "        0.0108,  0.011 ,  0.0112,  0.0114,  0.0116,  0.0118,  0.012 ,\n",
      "        0.0122,  0.0124,  0.0126,  0.0128,  0.013 ,  0.0132,  0.0134,\n",
      "        0.0136,  0.0138,  0.014 ,  0.0142,  0.0144,  0.0146,  0.0148,\n",
      "        0.015 ,  0.0152,  0.0154,  0.0156,  0.0158,  0.016 ,  0.0162,\n",
      "        0.0164,  0.0166,  0.0168,  0.017 ,  0.0172,  0.0174,  0.0176,\n",
      "        0.0178,  0.018 ,  0.0182,  0.0184,  0.0186,  0.0188,  0.019 ,\n",
      "        0.0192,  0.0194,  0.0196,  0.0198,  0.02  ]), 'ele': array([-0.02  , -0.0198, -0.0196, -0.0194, -0.0192, -0.019 , -0.0188,\n",
      "       -0.0186, -0.0184, -0.0182, -0.018 , -0.0178, -0.0176, -0.0174,\n",
      "       -0.0172, -0.017 , -0.0168, -0.0166, -0.0164, -0.0162, -0.016 ,\n",
      "       -0.0158, -0.0156, -0.0154, -0.0152, -0.015 , -0.0148, -0.0146,\n",
      "       -0.0144, -0.0142, -0.014 , -0.0138, -0.0136, -0.0134, -0.0132,\n",
      "       -0.013 , -0.0128, -0.0126, -0.0124, -0.0122, -0.012 , -0.0118,\n",
      "       -0.0116, -0.0114, -0.0112, -0.011 , -0.0108, -0.0106, -0.0104,\n",
      "       -0.0102, -0.01  , -0.0098, -0.0096, -0.0094, -0.0092, -0.009 ,\n",
      "       -0.0088, -0.0086, -0.0084, -0.0082, -0.008 , -0.0078, -0.0076,\n",
      "       -0.0074, -0.0072, -0.007 , -0.0068, -0.0066, -0.0064, -0.0062,\n",
      "       -0.006 , -0.0058, -0.0056, -0.0054, -0.0052, -0.005 , -0.0048,\n",
      "       -0.0046, -0.0044, -0.0042, -0.004 , -0.0038, -0.0036, -0.0034,\n",
      "       -0.0032, -0.003 , -0.0028, -0.0026, -0.0024, -0.0022, -0.002 ,\n",
      "       -0.0018, -0.0016, -0.0014, -0.0012, -0.001 , -0.0008, -0.0006,\n",
      "       -0.0004, -0.0002,  0.    ,  0.0002,  0.0004,  0.0006,  0.0008,\n",
      "        0.001 ,  0.0012,  0.0014,  0.0016,  0.0018,  0.002 ,  0.0022,\n",
      "        0.0024,  0.0026,  0.0028,  0.003 ,  0.0032,  0.0034,  0.0036,\n",
      "        0.0038,  0.004 ,  0.0042,  0.0044,  0.0046,  0.0048,  0.005 ,\n",
      "        0.0052,  0.0054,  0.0056,  0.0058,  0.006 ,  0.0062,  0.0064,\n",
      "        0.0066,  0.0068,  0.007 ,  0.0072,  0.0074,  0.0076,  0.0078,\n",
      "        0.008 ,  0.0082,  0.0084,  0.0086,  0.0088,  0.009 ,  0.0092,\n",
      "        0.0094,  0.0096,  0.0098,  0.01  ,  0.0102,  0.0104,  0.0106,\n",
      "        0.0108,  0.011 ,  0.0112,  0.0114,  0.0116,  0.0118,  0.012 ,\n",
      "        0.0122,  0.0124,  0.0126,  0.0128,  0.013 ,  0.0132,  0.0134,\n",
      "        0.0136,  0.0138,  0.014 ,  0.0142,  0.0144,  0.0146,  0.0148,\n",
      "        0.015 ,  0.0152,  0.0154,  0.0156,  0.0158,  0.016 ,  0.0162,\n",
      "        0.0164,  0.0166,  0.0168,  0.017 ,  0.0172,  0.0174,  0.0176,\n",
      "        0.0178,  0.018 ,  0.0182,  0.0184,  0.0186,  0.0188,  0.019 ,\n",
      "        0.0192,  0.0194,  0.0196,  0.0198,  0.02  ]), 'ax': array([0.005 , 0.0052, 0.0054, 0.0056, 0.0058, 0.006 , 0.0062, 0.0064,\n",
      "       0.0066, 0.0068, 0.007 , 0.0072, 0.0074, 0.0076, 0.0078, 0.008 ,\n",
      "       0.0082, 0.0084, 0.0086, 0.0088, 0.009 , 0.0092, 0.0094, 0.0096,\n",
      "       0.0098, 0.01  , 0.0102, 0.0104, 0.0106, 0.0108, 0.011 , 0.0112,\n",
      "       0.0114, 0.0116, 0.0118, 0.012 , 0.0122, 0.0124, 0.0126, 0.0128,\n",
      "       0.013 , 0.0132, 0.0134, 0.0136, 0.0138, 0.014 , 0.0142, 0.0144,\n",
      "       0.0146, 0.0148, 0.015 , 0.0152, 0.0154, 0.0156, 0.0158, 0.016 ,\n",
      "       0.0162, 0.0164, 0.0166, 0.0168, 0.017 , 0.0172, 0.0174, 0.0176,\n",
      "       0.0178, 0.018 , 0.0182, 0.0184, 0.0186, 0.0188, 0.019 , 0.0192,\n",
      "       0.0194, 0.0196, 0.0198, 0.02  , 0.0202, 0.0204, 0.0206, 0.0208,\n",
      "       0.021 , 0.0212, 0.0214, 0.0216, 0.0218, 0.022 , 0.0222, 0.0224,\n",
      "       0.0226, 0.0228, 0.023 , 0.0232, 0.0234, 0.0236, 0.0238, 0.024 ,\n",
      "       0.0242, 0.0244, 0.0246, 0.0248, 0.025 , 0.0252, 0.0254, 0.0256,\n",
      "       0.0258, 0.026 , 0.0262, 0.0264, 0.0266, 0.0268, 0.027 , 0.0272,\n",
      "       0.0274, 0.0276, 0.0278, 0.028 , 0.0282, 0.0284, 0.0286, 0.0288,\n",
      "       0.029 , 0.0292, 0.0294, 0.0296, 0.0298, 0.03  , 0.0302, 0.0304,\n",
      "       0.0306, 0.0308, 0.031 , 0.0312, 0.0314, 0.0316, 0.0318, 0.032 ,\n",
      "       0.0322, 0.0324, 0.0326, 0.0328, 0.033 , 0.0332, 0.0334, 0.0336,\n",
      "       0.0338, 0.034 , 0.0342, 0.0344, 0.0346, 0.0348, 0.035 , 0.0352,\n",
      "       0.0354, 0.0356, 0.0358, 0.036 , 0.0362, 0.0364, 0.0366, 0.0368,\n",
      "       0.037 , 0.0372, 0.0374, 0.0376, 0.0378, 0.038 , 0.0382, 0.0384,\n",
      "       0.0386, 0.0388, 0.039 , 0.0392, 0.0394, 0.0396, 0.0398, 0.04  ,\n",
      "       0.0402, 0.0404, 0.0406, 0.0408, 0.041 , 0.0412, 0.0414, 0.0416,\n",
      "       0.0418, 0.042 , 0.0422, 0.0424, 0.0426, 0.0428, 0.043 , 0.0432,\n",
      "       0.0434, 0.0436, 0.0438, 0.044 , 0.0442, 0.0444, 0.0446, 0.0448,\n",
      "       0.045 ])}\n"
     ]
    }
   ],
   "source": [
    "mpn = mat['FIELD_PARAMS']['measurementPoints'][0,0]\n",
    "extent = dict(\n",
    "    lat=np.unique(mpn[:,0]),\n",
    "    ele=np.unique(mpn[:,1]),\n",
    "    ax=np.unique(mpn[:,2]),\n",
    ")\n",
    "\n",
    "nlat, nele, nax = len(extent['lat']), len(extent['ele']), len(extent['ax'])\n",
    "intensity = mat['intensity'].reshape(nax, nlat, nele)\n",
    "# print(extent)"
   ]
  },
  {
   "cell_type": "code",
   "execution_count": 11,
   "metadata": {},
   "outputs": [
    {
     "data": {
      "text/plain": [
       "8"
      ]
     },
     "execution_count": 11,
     "metadata": {},
     "output_type": "execute_result"
    }
   ],
   "source": [
    "np.where(np.isclose(extent['lat'], 0))[0][0]"
   ]
  },
  {
   "cell_type": "code",
   "execution_count": 5,
   "metadata": {},
   "outputs": [
    {
     "ename": "TypeError",
     "evalue": "'norm' must be an instance of matplotlib.colors.Normalize, str or None, not a numpy.ndarray",
     "output_type": "error",
     "traceback": [
      "\u001b[0;31m---------------------------------------------------------------------------\u001b[0m",
      "\u001b[0;31mTypeError\u001b[0m                                 Traceback (most recent call last)",
      "Cell \u001b[0;32mIn[5], line 5\u001b[0m\n\u001b[1;32m      2\u001b[0m ele_zero_idx \u001b[39m=\u001b[39m np\u001b[39m.\u001b[39mwhere(np\u001b[39m.\u001b[39misclose(extent[\u001b[39m'\u001b[39m\u001b[39mele\u001b[39m\u001b[39m'\u001b[39m], \u001b[39m0\u001b[39m))[\u001b[39m0\u001b[39m][\u001b[39m0\u001b[39m]\n\u001b[1;32m      4\u001b[0m fig, ax \u001b[39m=\u001b[39m plt\u001b[39m.\u001b[39msubplots(nrows\u001b[39m=\u001b[39m\u001b[39m1\u001b[39m,ncols\u001b[39m=\u001b[39m\u001b[39m2\u001b[39m)\n\u001b[0;32m----> 5\u001b[0m ax[\u001b[39m0\u001b[39;49m]\u001b[39m.\u001b[39;49mimshow(extent[\u001b[39m'\u001b[39;49m\u001b[39max\u001b[39;49m\u001b[39m'\u001b[39;49m], extent[\u001b[39m'\u001b[39;49m\u001b[39mele\u001b[39;49m\u001b[39m'\u001b[39;49m], intensity[:,lat_zero_idx,:])\n\u001b[1;32m      6\u001b[0m ax[\u001b[39m0\u001b[39m]\u001b[39m.\u001b[39mset(xlabel\u001b[39m=\u001b[39m\u001b[39m'\u001b[39m\u001b[39mElevational\u001b[39m\u001b[39m'\u001b[39m, ylabel\u001b[39m=\u001b[39m\u001b[39m'\u001b[39m\u001b[39mAxial\u001b[39m\u001b[39m'\u001b[39m)\n\u001b[1;32m      7\u001b[0m ax[\u001b[39m1\u001b[39m]\u001b[39m.\u001b[39mimshow(intensity[:,:,ele_zero_idx])\n",
      "File \u001b[0;32m~/.conda/envs/fem/lib/python3.11/site-packages/matplotlib/_api/deprecation.py:454\u001b[0m, in \u001b[0;36mmake_keyword_only.<locals>.wrapper\u001b[0;34m(*args, **kwargs)\u001b[0m\n\u001b[1;32m    448\u001b[0m \u001b[39mif\u001b[39;00m \u001b[39mlen\u001b[39m(args) \u001b[39m>\u001b[39m name_idx:\n\u001b[1;32m    449\u001b[0m     warn_deprecated(\n\u001b[1;32m    450\u001b[0m         since, message\u001b[39m=\u001b[39m\u001b[39m\"\u001b[39m\u001b[39mPassing the \u001b[39m\u001b[39m%(name)s\u001b[39;00m\u001b[39m \u001b[39m\u001b[39m%(obj_type)s\u001b[39;00m\u001b[39m \u001b[39m\u001b[39m\"\u001b[39m\n\u001b[1;32m    451\u001b[0m         \u001b[39m\"\u001b[39m\u001b[39mpositionally is deprecated since Matplotlib \u001b[39m\u001b[39m%(since)s\u001b[39;00m\u001b[39m; the \u001b[39m\u001b[39m\"\u001b[39m\n\u001b[1;32m    452\u001b[0m         \u001b[39m\"\u001b[39m\u001b[39mparameter will become keyword-only \u001b[39m\u001b[39m%(removal)s\u001b[39;00m\u001b[39m.\u001b[39m\u001b[39m\"\u001b[39m,\n\u001b[1;32m    453\u001b[0m         name\u001b[39m=\u001b[39mname, obj_type\u001b[39m=\u001b[39m\u001b[39mf\u001b[39m\u001b[39m\"\u001b[39m\u001b[39mparameter of \u001b[39m\u001b[39m{\u001b[39;00mfunc\u001b[39m.\u001b[39m\u001b[39m__name__\u001b[39m\u001b[39m}\u001b[39;00m\u001b[39m()\u001b[39m\u001b[39m\"\u001b[39m)\n\u001b[0;32m--> 454\u001b[0m \u001b[39mreturn\u001b[39;00m func(\u001b[39m*\u001b[39;49margs, \u001b[39m*\u001b[39;49m\u001b[39m*\u001b[39;49mkwargs)\n",
      "File \u001b[0;32m~/.conda/envs/fem/lib/python3.11/site-packages/matplotlib/__init__.py:1433\u001b[0m, in \u001b[0;36m_preprocess_data.<locals>.inner\u001b[0;34m(ax, data, *args, **kwargs)\u001b[0m\n\u001b[1;32m   1430\u001b[0m \u001b[39m@functools\u001b[39m\u001b[39m.\u001b[39mwraps(func)\n\u001b[1;32m   1431\u001b[0m \u001b[39mdef\u001b[39;00m \u001b[39minner\u001b[39m(ax, \u001b[39m*\u001b[39margs, data\u001b[39m=\u001b[39m\u001b[39mNone\u001b[39;00m, \u001b[39m*\u001b[39m\u001b[39m*\u001b[39mkwargs):\n\u001b[1;32m   1432\u001b[0m     \u001b[39mif\u001b[39;00m data \u001b[39mis\u001b[39;00m \u001b[39mNone\u001b[39;00m:\n\u001b[0;32m-> 1433\u001b[0m         \u001b[39mreturn\u001b[39;00m func(ax, \u001b[39m*\u001b[39;49m\u001b[39mmap\u001b[39;49m(sanitize_sequence, args), \u001b[39m*\u001b[39;49m\u001b[39m*\u001b[39;49mkwargs)\n\u001b[1;32m   1435\u001b[0m     bound \u001b[39m=\u001b[39m new_sig\u001b[39m.\u001b[39mbind(ax, \u001b[39m*\u001b[39margs, \u001b[39m*\u001b[39m\u001b[39m*\u001b[39mkwargs)\n\u001b[1;32m   1436\u001b[0m     auto_label \u001b[39m=\u001b[39m (bound\u001b[39m.\u001b[39marguments\u001b[39m.\u001b[39mget(label_namer)\n\u001b[1;32m   1437\u001b[0m                   \u001b[39mor\u001b[39;00m bound\u001b[39m.\u001b[39mkwargs\u001b[39m.\u001b[39mget(label_namer))\n",
      "File \u001b[0;32m~/.conda/envs/fem/lib/python3.11/site-packages/matplotlib/axes/_axes.py:5603\u001b[0m, in \u001b[0;36mAxes.imshow\u001b[0;34m(self, X, cmap, norm, aspect, interpolation, alpha, vmin, vmax, origin, extent, interpolation_stage, filternorm, filterrad, resample, url, **kwargs)\u001b[0m\n\u001b[1;32m   5601\u001b[0m     aspect \u001b[39m=\u001b[39m mpl\u001b[39m.\u001b[39mrcParams[\u001b[39m'\u001b[39m\u001b[39mimage.aspect\u001b[39m\u001b[39m'\u001b[39m]\n\u001b[1;32m   5602\u001b[0m \u001b[39mself\u001b[39m\u001b[39m.\u001b[39mset_aspect(aspect)\n\u001b[0;32m-> 5603\u001b[0m im \u001b[39m=\u001b[39m mimage\u001b[39m.\u001b[39;49mAxesImage(\u001b[39mself\u001b[39;49m, cmap\u001b[39m=\u001b[39;49mcmap, norm\u001b[39m=\u001b[39;49mnorm,\n\u001b[1;32m   5604\u001b[0m                       interpolation\u001b[39m=\u001b[39;49minterpolation, origin\u001b[39m=\u001b[39;49morigin,\n\u001b[1;32m   5605\u001b[0m                       extent\u001b[39m=\u001b[39;49mextent, filternorm\u001b[39m=\u001b[39;49mfilternorm,\n\u001b[1;32m   5606\u001b[0m                       filterrad\u001b[39m=\u001b[39;49mfilterrad, resample\u001b[39m=\u001b[39;49mresample,\n\u001b[1;32m   5607\u001b[0m                       interpolation_stage\u001b[39m=\u001b[39;49minterpolation_stage,\n\u001b[1;32m   5608\u001b[0m                       \u001b[39m*\u001b[39;49m\u001b[39m*\u001b[39;49mkwargs)\n\u001b[1;32m   5610\u001b[0m im\u001b[39m.\u001b[39mset_data(X)\n\u001b[1;32m   5611\u001b[0m im\u001b[39m.\u001b[39mset_alpha(alpha)\n",
      "File \u001b[0;32m~/.conda/envs/fem/lib/python3.11/site-packages/matplotlib/_api/deprecation.py:454\u001b[0m, in \u001b[0;36mmake_keyword_only.<locals>.wrapper\u001b[0;34m(*args, **kwargs)\u001b[0m\n\u001b[1;32m    448\u001b[0m \u001b[39mif\u001b[39;00m \u001b[39mlen\u001b[39m(args) \u001b[39m>\u001b[39m name_idx:\n\u001b[1;32m    449\u001b[0m     warn_deprecated(\n\u001b[1;32m    450\u001b[0m         since, message\u001b[39m=\u001b[39m\u001b[39m\"\u001b[39m\u001b[39mPassing the \u001b[39m\u001b[39m%(name)s\u001b[39;00m\u001b[39m \u001b[39m\u001b[39m%(obj_type)s\u001b[39;00m\u001b[39m \u001b[39m\u001b[39m\"\u001b[39m\n\u001b[1;32m    451\u001b[0m         \u001b[39m\"\u001b[39m\u001b[39mpositionally is deprecated since Matplotlib \u001b[39m\u001b[39m%(since)s\u001b[39;00m\u001b[39m; the \u001b[39m\u001b[39m\"\u001b[39m\n\u001b[1;32m    452\u001b[0m         \u001b[39m\"\u001b[39m\u001b[39mparameter will become keyword-only \u001b[39m\u001b[39m%(removal)s\u001b[39;00m\u001b[39m.\u001b[39m\u001b[39m\"\u001b[39m,\n\u001b[1;32m    453\u001b[0m         name\u001b[39m=\u001b[39mname, obj_type\u001b[39m=\u001b[39m\u001b[39mf\u001b[39m\u001b[39m\"\u001b[39m\u001b[39mparameter of \u001b[39m\u001b[39m{\u001b[39;00mfunc\u001b[39m.\u001b[39m\u001b[39m__name__\u001b[39m\u001b[39m}\u001b[39;00m\u001b[39m()\u001b[39m\u001b[39m\"\u001b[39m)\n\u001b[0;32m--> 454\u001b[0m \u001b[39mreturn\u001b[39;00m func(\u001b[39m*\u001b[39;49margs, \u001b[39m*\u001b[39;49m\u001b[39m*\u001b[39;49mkwargs)\n",
      "File \u001b[0;32m~/.conda/envs/fem/lib/python3.11/site-packages/matplotlib/image.py:922\u001b[0m, in \u001b[0;36mAxesImage.__init__\u001b[0;34m(self, ax, cmap, norm, interpolation, origin, extent, filternorm, filterrad, resample, interpolation_stage, **kwargs)\u001b[0m\n\u001b[1;32m    905\u001b[0m \u001b[39m@_api\u001b[39m\u001b[39m.\u001b[39mmake_keyword_only(\u001b[39m\"\u001b[39m\u001b[39m3.6\u001b[39m\u001b[39m\"\u001b[39m, name\u001b[39m=\u001b[39m\u001b[39m\"\u001b[39m\u001b[39mcmap\u001b[39m\u001b[39m\"\u001b[39m)\n\u001b[1;32m    906\u001b[0m \u001b[39mdef\u001b[39;00m \u001b[39m__init__\u001b[39m(\u001b[39mself\u001b[39m, ax,\n\u001b[1;32m    907\u001b[0m              cmap\u001b[39m=\u001b[39m\u001b[39mNone\u001b[39;00m,\n\u001b[0;32m   (...)\u001b[0m\n\u001b[1;32m    917\u001b[0m              \u001b[39m*\u001b[39m\u001b[39m*\u001b[39mkwargs\n\u001b[1;32m    918\u001b[0m              ):\n\u001b[1;32m    920\u001b[0m     \u001b[39mself\u001b[39m\u001b[39m.\u001b[39m_extent \u001b[39m=\u001b[39m extent\n\u001b[0;32m--> 922\u001b[0m     \u001b[39msuper\u001b[39;49m()\u001b[39m.\u001b[39;49m\u001b[39m__init__\u001b[39;49m(\n\u001b[1;32m    923\u001b[0m         ax,\n\u001b[1;32m    924\u001b[0m         cmap\u001b[39m=\u001b[39;49mcmap,\n\u001b[1;32m    925\u001b[0m         norm\u001b[39m=\u001b[39;49mnorm,\n\u001b[1;32m    926\u001b[0m         interpolation\u001b[39m=\u001b[39;49minterpolation,\n\u001b[1;32m    927\u001b[0m         origin\u001b[39m=\u001b[39;49morigin,\n\u001b[1;32m    928\u001b[0m         filternorm\u001b[39m=\u001b[39;49mfilternorm,\n\u001b[1;32m    929\u001b[0m         filterrad\u001b[39m=\u001b[39;49mfilterrad,\n\u001b[1;32m    930\u001b[0m         resample\u001b[39m=\u001b[39;49mresample,\n\u001b[1;32m    931\u001b[0m         interpolation_stage\u001b[39m=\u001b[39;49minterpolation_stage,\n\u001b[1;32m    932\u001b[0m         \u001b[39m*\u001b[39;49m\u001b[39m*\u001b[39;49mkwargs\n\u001b[1;32m    933\u001b[0m     )\n",
      "File \u001b[0;32m~/.conda/envs/fem/lib/python3.11/site-packages/matplotlib/image.py:260\u001b[0m, in \u001b[0;36m_ImageBase.__init__\u001b[0;34m(self, ax, cmap, norm, interpolation, origin, filternorm, filterrad, resample, interpolation_stage, **kwargs)\u001b[0m\n\u001b[1;32m    247\u001b[0m \u001b[39mdef\u001b[39;00m \u001b[39m__init__\u001b[39m(\u001b[39mself\u001b[39m, ax,\n\u001b[1;32m    248\u001b[0m              cmap\u001b[39m=\u001b[39m\u001b[39mNone\u001b[39;00m,\n\u001b[1;32m    249\u001b[0m              norm\u001b[39m=\u001b[39m\u001b[39mNone\u001b[39;00m,\n\u001b[0;32m   (...)\u001b[0m\n\u001b[1;32m    257\u001b[0m              \u001b[39m*\u001b[39m\u001b[39m*\u001b[39mkwargs\n\u001b[1;32m    258\u001b[0m              ):\n\u001b[1;32m    259\u001b[0m     martist\u001b[39m.\u001b[39mArtist\u001b[39m.\u001b[39m\u001b[39m__init__\u001b[39m(\u001b[39mself\u001b[39m)\n\u001b[0;32m--> 260\u001b[0m     cm\u001b[39m.\u001b[39;49mScalarMappable\u001b[39m.\u001b[39;49m\u001b[39m__init__\u001b[39;49m(\u001b[39mself\u001b[39;49m, norm, cmap)\n\u001b[1;32m    261\u001b[0m     \u001b[39mif\u001b[39;00m origin \u001b[39mis\u001b[39;00m \u001b[39mNone\u001b[39;00m:\n\u001b[1;32m    262\u001b[0m         origin \u001b[39m=\u001b[39m mpl\u001b[39m.\u001b[39mrcParams[\u001b[39m'\u001b[39m\u001b[39mimage.origin\u001b[39m\u001b[39m'\u001b[39m]\n",
      "File \u001b[0;32m~/.conda/envs/fem/lib/python3.11/site-packages/matplotlib/cm.py:413\u001b[0m, in \u001b[0;36mScalarMappable.__init__\u001b[0;34m(self, norm, cmap)\u001b[0m\n\u001b[1;32m    411\u001b[0m \u001b[39mself\u001b[39m\u001b[39m.\u001b[39m_A \u001b[39m=\u001b[39m \u001b[39mNone\u001b[39;00m\n\u001b[1;32m    412\u001b[0m \u001b[39mself\u001b[39m\u001b[39m.\u001b[39m_norm \u001b[39m=\u001b[39m \u001b[39mNone\u001b[39;00m  \u001b[39m# So that the setter knows we're initializing.\u001b[39;00m\n\u001b[0;32m--> 413\u001b[0m \u001b[39mself\u001b[39;49m\u001b[39m.\u001b[39;49mset_norm(norm)  \u001b[39m# The Normalize instance of this ScalarMappable.\u001b[39;00m\n\u001b[1;32m    414\u001b[0m \u001b[39mself\u001b[39m\u001b[39m.\u001b[39mcmap \u001b[39m=\u001b[39m \u001b[39mNone\u001b[39;00m  \u001b[39m# So that the setter knows we're initializing.\u001b[39;00m\n\u001b[1;32m    415\u001b[0m \u001b[39mself\u001b[39m\u001b[39m.\u001b[39mset_cmap(cmap)  \u001b[39m# The Colormap instance of this ScalarMappable.\u001b[39;00m\n",
      "File \u001b[0;32m~/.conda/envs/fem/lib/python3.11/site-packages/matplotlib/cm.py:654\u001b[0m, in \u001b[0;36mScalarMappable.set_norm\u001b[0;34m(self, norm)\u001b[0m\n\u001b[1;32m    640\u001b[0m \u001b[39mdef\u001b[39;00m \u001b[39mset_norm\u001b[39m(\u001b[39mself\u001b[39m, norm):\n\u001b[1;32m    641\u001b[0m \u001b[39m    \u001b[39m\u001b[39m\"\"\"\u001b[39;00m\n\u001b[1;32m    642\u001b[0m \u001b[39m    Set the normalization instance.\u001b[39;00m\n\u001b[1;32m    643\u001b[0m \n\u001b[0;32m   (...)\u001b[0m\n\u001b[1;32m    652\u001b[0m \u001b[39m    on the colorbar to default.\u001b[39;00m\n\u001b[1;32m    653\u001b[0m \u001b[39m    \"\"\"\u001b[39;00m\n\u001b[0;32m--> 654\u001b[0m     \u001b[39mself\u001b[39;49m\u001b[39m.\u001b[39;49mnorm \u001b[39m=\u001b[39m norm\n",
      "File \u001b[0;32m~/.conda/envs/fem/lib/python3.11/site-packages/matplotlib/cm.py:613\u001b[0m, in \u001b[0;36mScalarMappable.norm\u001b[0;34m(self, norm)\u001b[0m\n\u001b[1;32m    611\u001b[0m \u001b[39m@norm\u001b[39m\u001b[39m.\u001b[39msetter\n\u001b[1;32m    612\u001b[0m \u001b[39mdef\u001b[39;00m \u001b[39mnorm\u001b[39m(\u001b[39mself\u001b[39m, norm):\n\u001b[0;32m--> 613\u001b[0m     _api\u001b[39m.\u001b[39;49mcheck_isinstance((colors\u001b[39m.\u001b[39;49mNormalize, \u001b[39mstr\u001b[39;49m, \u001b[39mNone\u001b[39;49;00m), norm\u001b[39m=\u001b[39;49mnorm)\n\u001b[1;32m    614\u001b[0m     \u001b[39mif\u001b[39;00m norm \u001b[39mis\u001b[39;00m \u001b[39mNone\u001b[39;00m:\n\u001b[1;32m    615\u001b[0m         norm \u001b[39m=\u001b[39m colors\u001b[39m.\u001b[39mNormalize()\n",
      "File \u001b[0;32m~/.conda/envs/fem/lib/python3.11/site-packages/matplotlib/_api/__init__.py:93\u001b[0m, in \u001b[0;36mcheck_isinstance\u001b[0;34m(_types, **kwargs)\u001b[0m\n\u001b[1;32m     91\u001b[0m     names\u001b[39m.\u001b[39mremove(\u001b[39m\"\u001b[39m\u001b[39mNone\u001b[39m\u001b[39m\"\u001b[39m)\n\u001b[1;32m     92\u001b[0m     names\u001b[39m.\u001b[39mappend(\u001b[39m\"\u001b[39m\u001b[39mNone\u001b[39m\u001b[39m\"\u001b[39m)\n\u001b[0;32m---> 93\u001b[0m \u001b[39mraise\u001b[39;00m \u001b[39mTypeError\u001b[39;00m(\n\u001b[1;32m     94\u001b[0m     \u001b[39m\"\u001b[39m\u001b[39m{!r}\u001b[39;00m\u001b[39m must be an instance of \u001b[39m\u001b[39m{}\u001b[39;00m\u001b[39m, not a \u001b[39m\u001b[39m{}\u001b[39;00m\u001b[39m\"\u001b[39m\u001b[39m.\u001b[39mformat(\n\u001b[1;32m     95\u001b[0m         k,\n\u001b[1;32m     96\u001b[0m         \u001b[39m\"\u001b[39m\u001b[39m, \u001b[39m\u001b[39m\"\u001b[39m\u001b[39m.\u001b[39mjoin(names[:\u001b[39m-\u001b[39m\u001b[39m1\u001b[39m]) \u001b[39m+\u001b[39m \u001b[39m\"\u001b[39m\u001b[39m or \u001b[39m\u001b[39m\"\u001b[39m \u001b[39m+\u001b[39m names[\u001b[39m-\u001b[39m\u001b[39m1\u001b[39m]\n\u001b[1;32m     97\u001b[0m         \u001b[39mif\u001b[39;00m \u001b[39mlen\u001b[39m(names) \u001b[39m>\u001b[39m \u001b[39m1\u001b[39m \u001b[39melse\u001b[39;00m names[\u001b[39m0\u001b[39m],\n\u001b[1;32m     98\u001b[0m         type_name(\u001b[39mtype\u001b[39m(v))))\n",
      "\u001b[0;31mTypeError\u001b[0m: 'norm' must be an instance of matplotlib.colors.Normalize, str or None, not a numpy.ndarray"
     ]
    },
    {
     "data": {
      "image/png": "[encoded data removed]",
      "text/plain": [
       "<Figure size 640x480 with 2 Axes>"
      ]
     },
     "metadata": {},
     "output_type": "display_data"
    }
   ],
   "source": [
    "lat_zero_idx = np.where(np.isclose(extent['lat'], 0))[0][0]\n",
    "ele_zero_idx = np.where(np.isclose(extent['ele'], 0))[0][0]\n",
    "\n",
    "fig, ax = plt.subplots(nrows=1,ncols=2)\n",
    "ax[0].imshow(intensity[:,lat_zero_idx,:])\n",
    "ax[0].set(xlabel='Elevational', ylabel='Axial')\n",
    "ax[1].imshow(intensity[:,:,ele_zero_idx])\n",
    "ax[1].set(xlabel='Lateral', ylabel='Axial')"
   ]
  }
 ],
 "metadata": {
  "kernelspec": {
   "display_name": "fem",
   "language": "python",
   "name": "python3"
  },
  "language_info": {
   "codemirror_mode": {
    "name": "ipython",
    "version": 3
   },
   "file_extension": ".py",
   "mimetype": "text/x-python",
   "name": "python",
   "nbconvert_exporter": "python",
   "pygments_lexer": "ipython3",
   "version": "3.11.0"
  },
  "orig_nbformat": 4
 },
 "nbformat": 4,
 "nbformat_minor": 2
}
