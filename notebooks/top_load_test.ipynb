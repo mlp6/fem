{
 "cells": [
  {
   "cell_type": "code",
   "execution_count": 1,
   "metadata": {},
   "outputs": [],
   "source": [
    "%load_ext autoreload\n",
    "%autoreload 2"
   ]
  },
  {
   "attachments": {},
   "cell_type": "markdown",
   "metadata": {},
   "source": [
    "Procedure\n",
    "\n",
    "- Create mesh\n",
    "    - Generates object with nodes and elements as properties\n",
    "    - Depends on coordinate system, mesh size, and symmetry conditions"
   ]
  },
  {
   "cell_type": "code",
   "execution_count": 2,
   "metadata": {},
   "outputs": [],
   "source": [
    "%matplotlib inline\n",
    "import matplotlib.pyplot as plt\n",
    "import numpy as np"
   ]
  },
  {
   "attachments": {},
   "cell_type": "markdown",
   "metadata": {},
   "source": [
    "- Create mesh \n",
    "    - Depends on element size and extents\n",
    "    - Returns coordinate axes (size of each is nx, ny, nz)\n",
    "- Add structures to mesh\n",
    "    - Get nodes in struct based on coordinates\n",
    "    - Change part id of elements in struct\n",
    "        - All nodes in element should be within struct? \n",
    "    -- Generate list of node ids in struct\n",
    "- Add boundary constraints \n",
    "    - Depends on mesh symmetry\n",
    "    - Change tc and rc of nodes on faces and edges\n",
    "- Add pml\n",
    "    - Depends on mesh symmetry and pml thickness\n",
    "    - Change part id of non-symmetry plane elements\n",
    "    - Part id + 1 if also in struct\n",
    "- Finish dyna deck\n",
    "    - Add material\n",
    "    - Add load curves\n",
    "    - Add arf load based on field params (pre-generated)\n",
    "    - Add database/control parameters\n",
    "        - Node sets?\n",
    "- Validation functions\n",
    "    - Make sure nodes exist on center axis regardless of mesh symmetry so peak arf load is modeled\n",
    "\n"
   ]
  },
  {
   "cell_type": "code",
   "execution_count": 5,
   "metadata": {},
   "outputs": [
    {
     "name": "stdout",
     "output_type": "stream",
     "text": [
      "symmetry plane: ymin\n",
      "symmetry plane: xmax\n",
      "pml plane: xmin\n",
      "pml plane: zmin\n",
      "pml plane: zmax\n",
      "pml plane: ymax\n"
     ]
    }
   ],
   "source": [
    "import fem\n",
    "import pathlib\n",
    "\n",
    "from fem.dyna.mesh import Coordinates, DynaMesh\n",
    "from fem.dyna._structure import Structure\n",
    "from fem.dyna.material import KelvinMaxwellViscoelastic, Elastic\n",
    "\n",
    "project_path = pathlib.Path(fem.__file__).parents[1]\n",
    "sims_path = project_path.joinpath('sims')\n",
    "sims_path.mkdir(parents=True, exist_ok=True)\n",
    "\n",
    "mat1 = Elastic(density=1, E=15e3, nu=0.499)\n",
    "# mat1 = KelvinMaxwellViscoelastic(density=1, E=26.11, nu=0.499, eta=2.34)\n",
    "# mat2 = KelvinMaxwellViscoelastic(density=1, E=2*26.11, nu=0.499, eta=2.34)\n",
    "\n",
    "# struct_list = [\n",
    "    # Structure(\n",
    "    #     shape = 'rectangle', \n",
    "    #     args = [-1, -0.5, 0, 0.5, -4, -2],\n",
    "    #     material = mat2,  \n",
    "    # ), \n",
    "    # Structure(\n",
    "    #     shape = 'sphere', \n",
    "    #     args = [0, 0, -2, 1],\n",
    "    #     material = mat2,  \n",
    "    # ), \n",
    "# ]\n",
    "\n",
    "coords = Coordinates(\n",
    "    nx=51, ny=51, nz=101,\n",
    "    # nx=25, ny=25, nz=51,\n",
    "    xmin=-1.0, xmax=0.0,  # ele\n",
    "    ymin=0.0, ymax=0.5,  # lat\n",
    "    zmin=-4.0, zmax=-0.15   # ax\n",
    "    # nx=11, ny=11, nz=51,\n",
    "    # nx=5, ny=5, nz=11,\n",
    "    # xmin=-1.5, xmax=0.0,  # ele\n",
    "    # ymin=0.0, ymax=1.5,  # lat\n",
    "    # zmin=-4.0, zmax=-0.5   # ax\n",
    ")\n",
    "symmetry = 'q'\n",
    "mesh = DynaMesh(coords, symmetry, mat1)\n",
    "\n",
    "# mesh.add_pml(pml_thickness=2, exclude_faces=['zmin'])\n",
    "mesh.add_pml(pml_thickness=7)\n",
    "# mesh.add_struct_list(struct_list)\n",
    "mesh.constrain_boundary_nodes()\n",
    "\n",
    "mesh.set_control(end_time=4.5e-3)\n",
    "mesh.set_database(dt=2e-5)\n",
    "mesh.set_master(title='testing')\n",
    "\n",
    "load_curve_id = 1\n",
    "normalization_isppa = 1000\n",
    "field_load_file = project_path.joinpath('loads/test_loads.mat')\n",
    "# field_load_file = project_path.joinpath('loads/test_load_full_extent.mat')\n",
    "mesh.add_load_curve(load_curve_id, 'arf', [70e-6, 5e-6])\n",
    "mesh.add_field_arf_load(field_load_file, normalization_isppa, load_curve_id)\n",
    "\n",
    "load_folder_name = 'load_0'\n",
    "material_folder_name = 'material_0'\n",
    "mesh.write_all_dyna_cards(sims_path, load_folder_name, material_folder_name)\n"
   ]
  },
  {
   "cell_type": "code",
   "execution_count": 8,
   "metadata": {},
   "outputs": [
    {
     "data": {
      "text/plain": [
       "rec.array([[( 1, -1.  , 0.   , -4., 7, 7), ( 6, -1.  , 0.125, -4., 7, 7),\n",
       "            (11, -1.  , 0.25 , -4., 7, 7), (16, -1.  , 0.375, -4., 7, 7),\n",
       "            (21, -1.  , 0.5  , -4., 7, 7)],\n",
       "           [( 2, -0.75, 0.   , -4., 7, 7), ( 7, -0.75, 0.125, -4., 7, 7),\n",
       "            (12, -0.75, 0.25 , -4., 7, 7), (17, -0.75, 0.375, -4., 7, 7),\n",
       "            (22, -0.75, 0.5  , -4., 7, 7)],\n",
       "           [( 3, -0.5 , 0.   , -4., 7, 7), ( 8, -0.5 , 0.125, -4., 7, 7),\n",
       "            (13, -0.5 , 0.25 , -4., 7, 7), (18, -0.5 , 0.375, -4., 7, 7),\n",
       "            (23, -0.5 , 0.5  , -4., 7, 7)],\n",
       "           [( 4, -0.25, 0.   , -4., 7, 7), ( 9, -0.25, 0.125, -4., 7, 7),\n",
       "            (14, -0.25, 0.25 , -4., 7, 7), (19, -0.25, 0.375, -4., 7, 7),\n",
       "            (24, -0.25, 0.5  , -4., 7, 7)],\n",
       "           [( 5,  0.  , 0.   , -4., 7, 7), (10,  0.  , 0.125, -4., 7, 7),\n",
       "            (15,  0.  , 0.25 , -4., 7, 7), (20,  0.  , 0.375, -4., 7, 7),\n",
       "            (25,  0.  , 0.5  , -4., 7, 7)]],\n",
       "          dtype=[('id', '<i4'), ('x', '<f4'), ('y', '<f4'), ('z', '<f4'), ('tc', '<i4'), ('rc', '<i4')])"
      ]
     },
     "execution_count": 8,
     "metadata": {},
     "output_type": "execute_result"
    }
   ],
   "source": [
    "nodes = mesh.get_nodes_3d()\n",
    "\n",
    "nodes[:,:,0]"
   ]
  },
  {
   "cell_type": "code",
   "execution_count": 10,
   "metadata": {},
   "outputs": [
    {
     "name": "stderr",
     "output_type": "stream",
     "text": [
      "WARNING:fem.post.create_disp_dat:The SLOW Python implementation of create_disp_day is being used.  Consider using create_disp_dat_fast (C implementation via shared object or executable).\n",
      "INFO:fem.post.create_disp_dat:Reading number of time steps... \n",
      "INFO:fem.post.create_disp_dat:there are 50.\n",
      "INFO:fem.post.create_disp_dat:Time Step: \n",
      "INFO:fem.post.create_disp_dat:1, \n",
      "INFO:fem.post.create_disp_dat:2, \n",
      "INFO:fem.post.create_disp_dat:3, \n",
      "INFO:fem.post.create_disp_dat:4, \n",
      "INFO:fem.post.create_disp_dat:5, \n",
      "INFO:fem.post.create_disp_dat:6, \n",
      "INFO:fem.post.create_disp_dat:7, \n",
      "INFO:fem.post.create_disp_dat:8, \n",
      "INFO:fem.post.create_disp_dat:9, \n",
      "INFO:fem.post.create_disp_dat:10, \n",
      "INFO:fem.post.create_disp_dat:11, \n",
      "INFO:fem.post.create_disp_dat:12, \n",
      "INFO:fem.post.create_disp_dat:13, \n",
      "INFO:fem.post.create_disp_dat:14, \n",
      "INFO:fem.post.create_disp_dat:15, \n",
      "INFO:fem.post.create_disp_dat:16, \n",
      "INFO:fem.post.create_disp_dat:17, \n",
      "INFO:fem.post.create_disp_dat:18, \n",
      "INFO:fem.post.create_disp_dat:19, \n",
      "INFO:fem.post.create_disp_dat:20, \n",
      "INFO:fem.post.create_disp_dat:21, \n",
      "INFO:fem.post.create_disp_dat:22, \n",
      "INFO:fem.post.create_disp_dat:23, \n",
      "INFO:fem.post.create_disp_dat:24, \n",
      "INFO:fem.post.create_disp_dat:25, \n",
      "INFO:fem.post.create_disp_dat:26, \n",
      "INFO:fem.post.create_disp_dat:27, \n",
      "INFO:fem.post.create_disp_dat:28, \n",
      "INFO:fem.post.create_disp_dat:29, \n",
      "INFO:fem.post.create_disp_dat:30, \n",
      "INFO:fem.post.create_disp_dat:31, \n",
      "INFO:fem.post.create_disp_dat:32, \n",
      "INFO:fem.post.create_disp_dat:33, \n",
      "INFO:fem.post.create_disp_dat:34, \n",
      "INFO:fem.post.create_disp_dat:35, \n",
      "INFO:fem.post.create_disp_dat:36, \n",
      "INFO:fem.post.create_disp_dat:37, \n",
      "INFO:fem.post.create_disp_dat:38, \n",
      "INFO:fem.post.create_disp_dat:39, \n",
      "INFO:fem.post.create_disp_dat:40, \n",
      "INFO:fem.post.create_disp_dat:41, \n",
      "INFO:fem.post.create_disp_dat:42, \n",
      "INFO:fem.post.create_disp_dat:43, \n",
      "INFO:fem.post.create_disp_dat:44, \n",
      "INFO:fem.post.create_disp_dat:45, \n",
      "INFO:fem.post.create_disp_dat:46, \n",
      "INFO:fem.post.create_disp_dat:47, \n",
      "INFO:fem.post.create_disp_dat:48, \n",
      "INFO:fem.post.create_disp_dat:49, \n",
      "INFO:fem.post.create_disp_dat:50, \n",
      "INFO:fem.post.create_disp_dat:done.\n"
     ]
    },
    {
     "data": {
      "text/plain": [
       "0"
      ]
     },
     "execution_count": 10,
     "metadata": {},
     "output_type": "execute_result"
    }
   ],
   "source": [
    "from fem.post.create_disp_dat import create_dat\n",
    "\n",
    "create_dat(nodout=sim_folder / 'nodout')"
   ]
  },
  {
   "cell_type": "code",
   "execution_count": 12,
   "metadata": {},
   "outputs": [
    {
     "name": "stdout",
     "output_type": "stream",
     "text": [
      "{'num_nodes': 275, 'num_dims': 4, 'num_timesteps': 50}\n"
     ]
    }
   ],
   "source": [
    "from fem.post.create_res_sim import read_header\n",
    "\n",
    "dispout = 'disp.dat'\n",
    "header = read_header(dispout)\n",
    "\n",
    "print(header)"
   ]
  },
  {
   "cell_type": "code",
   "execution_count": 8,
   "metadata": {},
   "outputs": [
    {
     "name": "stdout",
     "output_type": "stream",
     "text": [
      "(51, 51, 101)\n"
     ]
    }
   ],
   "source": [
    "from fem.mesh import fem_mesh\n",
    "\n",
    "node_id_coords = fem_mesh.load_nodeIDs_coords(nodes)\n",
    "[snic, axes] = fem_mesh.SortNodeIDs(node_id_coords)\n",
    "\n",
    "print(snic.shape)"
   ]
  },
  {
   "cell_type": "code",
   "execution_count": 15,
   "metadata": {},
   "outputs": [
    {
     "name": "stderr",
     "output_type": "stream",
     "text": [
      "INFO:fem.post.create_res_sim:Total Timesteps: 50\n",
      "INFO:fem.post.create_res_sim:Extracting timestep:\n",
      "INFO:fem.post.create_res_sim:1\n"
     ]
    },
    {
     "name": "stdout",
     "output_type": "stream",
     "text": [
      "50 0.0 0\n",
      "[[    51   2652   5253 ... 254949 257550 260151]\n",
      " [   102   2703   5304 ... 255000 257601 260202]\n",
      " [   153   2754   5355 ... 255051 257652 260253]\n",
      " ...\n",
      " [  2499   5100   7701 ... 257397 259998 262599]\n",
      " [  2550   5151   7752 ... 257448 260049 262650]\n",
      " [  2601   5202   7803 ... 257499 260100 262701]]\n"
     ]
    },
    {
     "name": "stderr",
     "output_type": "stream",
     "text": [
      "INFO:fem.post.create_res_sim:2\n",
      "INFO:fem.post.create_res_sim:3\n",
      "INFO:fem.post.create_res_sim:4\n",
      "INFO:fem.post.create_res_sim:5\n",
      "INFO:fem.post.create_res_sim:6\n",
      "INFO:fem.post.create_res_sim:7\n",
      "INFO:fem.post.create_res_sim:8\n",
      "INFO:fem.post.create_res_sim:9\n",
      "INFO:fem.post.create_res_sim:10\n",
      "INFO:fem.post.create_res_sim:11\n",
      "INFO:fem.post.create_res_sim:12\n",
      "INFO:fem.post.create_res_sim:13\n",
      "INFO:fem.post.create_res_sim:14\n",
      "INFO:fem.post.create_res_sim:15\n",
      "INFO:fem.post.create_res_sim:16\n",
      "INFO:fem.post.create_res_sim:17\n",
      "INFO:fem.post.create_res_sim:18\n",
      "INFO:fem.post.create_res_sim:19\n",
      "INFO:fem.post.create_res_sim:20\n",
      "INFO:fem.post.create_res_sim:21\n",
      "INFO:fem.post.create_res_sim:22\n",
      "INFO:fem.post.create_res_sim:23\n",
      "INFO:fem.post.create_res_sim:24\n",
      "INFO:fem.post.create_res_sim:25\n",
      "INFO:fem.post.create_res_sim:26\n",
      "INFO:fem.post.create_res_sim:27\n",
      "INFO:fem.post.create_res_sim:28\n",
      "INFO:fem.post.create_res_sim:29\n",
      "INFO:fem.post.create_res_sim:30\n",
      "INFO:fem.post.create_res_sim:31\n",
      "INFO:fem.post.create_res_sim:32\n",
      "INFO:fem.post.create_res_sim:33\n",
      "INFO:fem.post.create_res_sim:34\n",
      "INFO:fem.post.create_res_sim:35\n",
      "INFO:fem.post.create_res_sim:36\n",
      "INFO:fem.post.create_res_sim:37\n",
      "INFO:fem.post.create_res_sim:38\n",
      "INFO:fem.post.create_res_sim:39\n",
      "INFO:fem.post.create_res_sim:40\n",
      "INFO:fem.post.create_res_sim:41\n",
      "INFO:fem.post.create_res_sim:42\n",
      "INFO:fem.post.create_res_sim:43\n",
      "INFO:fem.post.create_res_sim:44\n",
      "INFO:fem.post.create_res_sim:45\n",
      "INFO:fem.post.create_res_sim:46\n",
      "INFO:fem.post.create_res_sim:47\n",
      "INFO:fem.post.create_res_sim:48\n",
      "INFO:fem.post.create_res_sim:49\n",
      "INFO:fem.post.create_res_sim:50\n",
      "INFO:fem.post.create_res_sim:\n",
      "Done extracting all timesteps.\n",
      "INFO:fem.post.create_res_sim:Saving data to: res_sim.mat\n"
     ]
    },
    {
     "data": {
      "text/plain": [
       "0"
      ]
     },
     "execution_count": 15,
     "metadata": {},
     "output_type": "execute_result"
    }
   ],
   "source": [
    "from fem.post.create_res_sim import run as create_res_sim\n",
    "import pathlib\n",
    "import fem\n",
    "\n",
    "load_folder_name = 'load_0'\n",
    "material_folder_name = 'material_0'\n",
    "\n",
    "project_path = pathlib.Path(fem.__file__).parents[1]\n",
    "sims_path = project_path.joinpath('sims')\n",
    "sim_folder = sims_path / load_folder_name / material_folder_name\n",
    "\n",
    "dynadeck = sim_folder / 'Master.dyn'\n",
    "nodes = sims_path / 'nodes.dyn'\n",
    "\n",
    "create_res_sim(dynadeck, nodedyn=nodes)\n"
   ]
  },
  {
   "cell_type": "code",
   "execution_count": 7,
   "metadata": {},
   "outputs": [
    {
     "data": {
      "text/plain": [
       "dict_keys(['__header__', '__version__', '__globals__', 't', 'ele', 'lat', 'axial', 'arfidata'])"
      ]
     },
     "execution_count": 7,
     "metadata": {},
     "output_type": "execute_result"
    }
   ],
   "source": [
    "from scipy.io import loadmat\n",
    "\n",
    "load_folder_name = 'load_0'\n",
    "material_folder_name = 'material_0'\n",
    "\n",
    "project_path = pathlib.Path(fem.__file__).parents[1]\n",
    "sims_path = project_path.joinpath('sims')\n",
    "sim_folder = sims_path / load_folder_name / material_folder_name\n",
    "\n",
    "mat = loadmat(sim_folder / 'res_sim.mat')\n",
    "\n",
    "mat.keys()"
   ]
  },
  {
   "cell_type": "code",
   "execution_count": 18,
   "metadata": {},
   "outputs": [
    {
     "data": {
      "text/plain": [
       "(51, 25, 25, 196)"
      ]
     },
     "execution_count": 18,
     "metadata": {},
     "output_type": "execute_result"
    }
   ],
   "source": [
    "mat['arfidata'].shape"
   ]
  },
  {
   "cell_type": "code",
   "execution_count": 9,
   "metadata": {},
   "outputs": [
    {
     "data": {
      "text/plain": [
       "array([[ 1.5 ],\n",
       "       [ 1.89],\n",
       "       [ 2.27],\n",
       "       [ 2.66],\n",
       "       [ 3.04],\n",
       "       [ 3.43],\n",
       "       [ 3.81],\n",
       "       [ 4.2 ],\n",
       "       [ 4.58],\n",
       "       [ 4.97],\n",
       "       [ 5.35],\n",
       "       [ 5.74],\n",
       "       [ 6.12],\n",
       "       [ 6.51],\n",
       "       [ 6.89],\n",
       "       [ 7.28],\n",
       "       [ 7.66],\n",
       "       [ 8.05],\n",
       "       [ 8.43],\n",
       "       [ 8.82],\n",
       "       [ 9.2 ],\n",
       "       [ 9.59],\n",
       "       [ 9.97],\n",
       "       [10.36],\n",
       "       [10.74],\n",
       "       [11.13],\n",
       "       [11.51],\n",
       "       [11.9 ],\n",
       "       [12.28],\n",
       "       [12.67],\n",
       "       [13.05],\n",
       "       [13.44],\n",
       "       [13.82],\n",
       "       [14.21],\n",
       "       [14.59],\n",
       "       [14.98],\n",
       "       [15.36],\n",
       "       [15.75],\n",
       "       [16.13],\n",
       "       [16.52],\n",
       "       [16.9 ],\n",
       "       [17.29],\n",
       "       [17.67],\n",
       "       [18.06],\n",
       "       [18.44],\n",
       "       [18.83],\n",
       "       [19.21],\n",
       "       [19.6 ],\n",
       "       [19.98],\n",
       "       [20.37],\n",
       "       [20.75],\n",
       "       [21.14],\n",
       "       [21.52],\n",
       "       [21.91],\n",
       "       [22.29],\n",
       "       [22.68],\n",
       "       [23.06],\n",
       "       [23.45],\n",
       "       [23.83],\n",
       "       [24.22],\n",
       "       [24.6 ],\n",
       "       [24.99],\n",
       "       [25.37],\n",
       "       [25.76],\n",
       "       [26.14],\n",
       "       [26.53],\n",
       "       [26.91],\n",
       "       [27.3 ],\n",
       "       [27.68],\n",
       "       [28.07],\n",
       "       [28.45],\n",
       "       [28.84],\n",
       "       [29.22],\n",
       "       [29.61],\n",
       "       [29.99],\n",
       "       [30.38],\n",
       "       [30.76],\n",
       "       [31.15],\n",
       "       [31.53],\n",
       "       [31.92],\n",
       "       [32.3 ],\n",
       "       [32.69],\n",
       "       [33.07],\n",
       "       [33.46],\n",
       "       [33.84],\n",
       "       [34.23],\n",
       "       [34.61],\n",
       "       [35.  ],\n",
       "       [35.38],\n",
       "       [35.77],\n",
       "       [36.15],\n",
       "       [36.54],\n",
       "       [36.92],\n",
       "       [37.31],\n",
       "       [37.69],\n",
       "       [38.08],\n",
       "       [38.46],\n",
       "       [38.85],\n",
       "       [39.23],\n",
       "       [39.62],\n",
       "       [40.  ]])"
      ]
     },
     "execution_count": 9,
     "metadata": {},
     "output_type": "execute_result"
    }
   ],
   "source": [
    "mat['axial']"
   ]
  },
  {
   "cell_type": "code",
   "execution_count": 8,
   "metadata": {},
   "outputs": [
    {
     "data": {
      "text/plain": [
       "<matplotlib.colorbar.Colorbar at 0x7f645d8df550>"
      ]
     },
     "execution_count": 8,
     "metadata": {},
     "output_type": "execute_result"
    },
    {
     "data": {
      "image/png": "[encoded data removed]",
      "text/plain": [
       "<Figure size 640x480 with 2 Axes>"
      ]
     },
     "metadata": {},
     "output_type": "display_data"
    }
   ],
   "source": [
    "plt.imshow(mat['arfidata'][:,0,-1,:])\n",
    "plt.colorbar()"
   ]
  },
  {
   "cell_type": "code",
   "execution_count": 24,
   "metadata": {},
   "outputs": [
    {
     "name": "stdout",
     "output_type": "stream",
     "text": [
      "dict_keys(['__header__', '__version__', '__globals__', 'FIELD_PARAMS', 'intensity'])\n",
      "1540 0.7 4.21 0.34203806870937786\n"
     ]
    }
   ],
   "source": [
    "import pathlib\n",
    "import fem\n",
    "from scipy.io import loadmat\n",
    "\n",
    "load_path = pathlib.Path(fem.__file__).parents[1].joinpath('loads')\n",
    "# mat_file = load_path / 'test_loads.mat'\n",
    "mat_file = load_path / 'test_load_full_extent.mat'\n",
    "\n",
    "mat = loadmat(mat_file)\n",
    "c = mat['FIELD_PARAMS']['soundSpeed'][0,0][0][0] \n",
    "alpha_db = mat['FIELD_PARAMS']['alpha'][0,0][0][0]\n",
    "frequency = mat['FIELD_PARAMS']['Frequency'][0,0][0][0]\n",
    "alpha_np = alpha_db * frequency / 8.616\n",
    "\n",
    "print(mat.keys())\n",
    "print(c, alpha_db, frequency, alpha_np)"
   ]
  },
  {
   "cell_type": "code",
   "execution_count": 11,
   "metadata": {},
   "outputs": [
    {
     "data": {
      "text/plain": [
       "dtype([('measurementPointsandNodes', 'O'), ('measurementPoints', 'O'), ('alpha', 'O'), ('Fnum', 'O'), ('focus', 'O'), ('Frequency', 'O'), ('Transducer', 'O'), ('Impulse', 'O'), ('soundSpeed', 'O'), ('samplingFrequency', 'O'), ('lat_extent', 'O'), ('ele_extent', 'O'), ('ax_extent', 'O')])"
      ]
     },
     "execution_count": 11,
     "metadata": {},
     "output_type": "execute_result"
    }
   ],
   "source": [
    "mat['FIELD_PARAMS'].dtype"
   ]
  },
  {
   "cell_type": "code",
   "execution_count": 25,
   "metadata": {},
   "outputs": [
    {
     "data": {
      "text/plain": [
       "{'lat': array([-0.02  , -0.0175, -0.015 , -0.0125, -0.01  , -0.0075, -0.005 ,\n",
       "        -0.0025,  0.    ,  0.0025,  0.005 ,  0.0075,  0.01  ,  0.0125,\n",
       "         0.015 ,  0.0175,  0.02  ]),\n",
       " 'ele': array([-0.02  , -0.0175, -0.015 , -0.0125, -0.01  , -0.0075, -0.005 ,\n",
       "        -0.0025,  0.    ,  0.0025,  0.005 ,  0.0075,  0.01  ,  0.0125,\n",
       "         0.015 ,  0.0175,  0.02  ]),\n",
       " 'ax': array([0.005 , 0.0075, 0.01  , 0.0125, 0.015 , 0.0175, 0.02  , 0.0225,\n",
       "        0.025 , 0.0275, 0.03  , 0.0325, 0.035 , 0.0375, 0.04  , 0.0425,\n",
       "        0.045 ])}"
      ]
     },
     "execution_count": 25,
     "metadata": {},
     "output_type": "execute_result"
    }
   ],
   "source": [
    "mpn = mat['FIELD_PARAMS']['measurementPoints'][0,0]\n",
    "\n",
    "extent = dict(\n",
    "    lat=np.unique(mpn[:,0]),\n",
    "    ele=np.unique(mpn[:,1]),\n",
    "    ax=np.unique(mpn[:,2]),\n",
    ")\n",
    "\n",
    "extent"
   ]
  },
  {
   "cell_type": "code",
   "execution_count": 20,
   "metadata": {},
   "outputs": [
    {
     "data": {
      "text/plain": [
       "True"
      ]
     },
     "execution_count": 20,
     "metadata": {},
     "output_type": "execute_result"
    }
   ],
   "source": [
    "'ax_extent' in mat['FIELD_PARAMS'].dtype.names"
   ]
  },
  {
   "cell_type": "code",
   "execution_count": 23,
   "metadata": {},
   "outputs": [
    {
     "data": {
      "text/plain": [
       "array([[array([[-0.01   ],\n",
       "               [-0.00975],\n",
       "               [-0.0095 ],\n",
       "               [-0.00925],\n",
       "               [-0.009  ],\n",
       "               [-0.00875],\n",
       "               [-0.0085 ],\n",
       "               [-0.00825],\n",
       "               [-0.008  ],\n",
       "               [-0.00775],\n",
       "               [-0.0075 ],\n",
       "               [-0.00725],\n",
       "               [-0.007  ],\n",
       "               [-0.00675],\n",
       "               [-0.0065 ],\n",
       "               [-0.00625],\n",
       "               [-0.006  ],\n",
       "               [-0.00575],\n",
       "               [-0.0055 ],\n",
       "               [-0.00525],\n",
       "               [-0.005  ],\n",
       "               [-0.00475],\n",
       "               [-0.0045 ],\n",
       "               [-0.00425],\n",
       "               [-0.004  ],\n",
       "               [-0.00375],\n",
       "               [-0.0035 ],\n",
       "               [-0.00325],\n",
       "               [-0.003  ],\n",
       "               [-0.00275],\n",
       "               [-0.0025 ],\n",
       "               [-0.00225],\n",
       "               [-0.002  ],\n",
       "               [-0.00175],\n",
       "               [-0.0015 ],\n",
       "               [-0.00125],\n",
       "               [-0.001  ],\n",
       "               [-0.00075],\n",
       "               [-0.0005 ],\n",
       "               [-0.00025],\n",
       "               [ 0.     ]])]], dtype=object)"
      ]
     },
     "execution_count": 23,
     "metadata": {},
     "output_type": "execute_result"
    }
   ],
   "source": [
    "mat['FIELD_PARAMS']['ele_extent']"
   ]
  },
  {
   "cell_type": "code",
   "execution_count": null,
   "metadata": {},
   "outputs": [],
   "source": []
  }
 ],
 "metadata": {
  "kernelspec": {
   "display_name": "fem",
   "language": "python",
   "name": "python3"
  },
  "language_info": {
   "codemirror_mode": {
    "name": "ipython",
    "version": 3
   },
   "file_extension": ".py",
   "mimetype": "text/x-python",
   "name": "python",
   "nbconvert_exporter": "python",
   "pygments_lexer": "ipython3",
   "version": "3.11.0"
  },
  "orig_nbformat": 4
 },
 "nbformat": 4,
 "nbformat_minor": 2
}
