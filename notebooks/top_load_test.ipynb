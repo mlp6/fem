{
 "cells": [
  {
   "cell_type": "code",
   "execution_count": 1,
   "metadata": {},
   "outputs": [],
   "source": [
    "\n",
    "%load_ext autoreload\n",
    "%autoreload 2"
   ]
  },
  {
   "attachments": {},
   "cell_type": "markdown",
   "metadata": {},
   "source": [
    "Procedure\n",
    "\n",
    "- Create mesh\n",
    "    - Generates object with nodes and elements as properties\n",
    "    - Depends on coordinate system, mesh size, and symmetry conditions"
   ]
  },
  {
   "cell_type": "code",
   "execution_count": 2,
   "metadata": {},
   "outputs": [],
   "source": [
    "%matplotlib inline\n",
    "import matplotlib.pyplot as plt\n",
    "import numpy as np"
   ]
  },
  {
   "attachments": {},
   "cell_type": "markdown",
   "metadata": {},
   "source": [
    "- Create mesh \n",
    "    - Depends on element size and extents\n",
    "    - Returns coordinate axes (size of each is nx, ny, nz)\n",
    "- Add structures to mesh\n",
    "    - Get nodes in struct based on coordinates\n",
    "    - Change part id of elements in struct\n",
    "        - All nodes in element should be within struct? \n",
    "    -- Generate list of node ids in struct\n",
    "- Add boundary constraints \n",
    "    - Depends on mesh symmetry\n",
    "    - Change tc and rc of nodes on faces and edges\n",
    "- Add pml\n",
    "    - Depends on mesh symmetry and pml thickness\n",
    "    - Change part id of non-symmetry plane elements\n",
    "    - Part id + 1 if also in struct\n",
    "- Finish dyna deck\n",
    "    - Add material\n",
    "    - Add load curves\n",
    "    - Add arf load based on field params (pre-generated)\n",
    "    - Add database/control parameters\n",
    "        - Node sets?\n",
    "- Validation functions\n",
    "    - Make sure nodes exist on center axis regardless of mesh symmetry so peak arf load is modeled\n",
    "\n"
   ]
  },
  {
   "cell_type": "code",
   "execution_count": 26,
   "metadata": {},
   "outputs": [],
   "source": [
    "import fem\n",
    "import pathlib\n",
    "\n",
    "from fem.dyna.mesh import Coordinates, DynaMesh\n",
    "from fem.dyna._structure import Structure\n",
    "from fem.dyna.material import KelvinMaxwellViscoelastic\n",
    "\n",
    "project_path = pathlib.Path(fem.__file__).parents[1]\n",
    "sims_path = project_path.joinpath('sims')\n",
    "sims_path.mkdir(parents=True, exist_ok=True)\n",
    "\n",
    "mat1 = KelvinMaxwellViscoelastic(density=1, E=26.11, nu=0.499, eta=2.34)\n",
    "mat2 = KelvinMaxwellViscoelastic(density=1, E=2*26.11, nu=0.499, eta=2.34)\n",
    "\n",
    "struct_list = [\n",
    "    Structure(\n",
    "        shape = 'rectangle', \n",
    "        args = [-1, -0.5, 0, 0.5, -4, -2],\n",
    "        material = mat2,  \n",
    "    ), \n",
    "    # Structure(\n",
    "    #     shape = 'sphere', \n",
    "    #     args = [0, 0, -2, 1],\n",
    "    #     material = mat2,  \n",
    "    # ), \n",
    "]\n",
    "\n",
    "coords = Coordinates(\n",
    "    nx=51, ny=51, nz=101,\n",
    "    xmin=-1.0, xmax=0.0,  # ele\n",
    "    ymin=0.0, ymax=0.5,  # lat\n",
    "    zmin=-4.0, zmax=-0.15   # ax\n",
    ")\n",
    "symmetry = 'q'\n",
    "mesh = DynaMesh(coords, symmetry, mat1)\n",
    "\n",
    "mesh.constrain_boundary_nodes()\n",
    "# mesh.add_pml(pml_thickness=2, exclude_faces=['zmin'])\n",
    "mesh.add_pml(pml_thickness=2)\n",
    "# mesh.add_struct_list(struct_list)\n",
    "\n",
    "mesh.set_control(end_time=4.5e-3)\n",
    "# mesh.set_control(end_time=2e-3)\n",
    "mesh.set_database(dt=2e-5)\n",
    "mesh.set_master(title='testing')\n",
    "\n",
    "load_curve_id = 1\n",
    "normalization_isppa = 1000\n",
    "field_load_file = project_path.joinpath('loads/test_loads.mat')\n",
    "mesh.add_load_curve(load_curve_id, 'arf', [70e-6, 5e-6])\n",
    "mesh.add_field_arf_load(field_load_file, normalization_isppa, load_curve_id)\n",
    "\n",
    "load_folder_name = 'load_0'\n",
    "material_folder_name = 'material_0'\n",
    "mesh.write_all_dyna_cards(sims_path, load_folder_name, material_folder_name)\n"
   ]
  },
  {
   "cell_type": "code",
   "execution_count": 10,
   "metadata": {},
   "outputs": [
    {
     "name": "stderr",
     "output_type": "stream",
     "text": [
      "WARNING:fem.post.create_disp_dat:The SLOW Python implementation of create_disp_day is being used.  Consider using create_disp_dat_fast (C implementation via shared object or executable).\n",
      "INFO:fem.post.create_disp_dat:Reading number of time steps... \n",
      "INFO:fem.post.create_disp_dat:there are 50.\n",
      "INFO:fem.post.create_disp_dat:Time Step: \n",
      "INFO:fem.post.create_disp_dat:1, \n",
      "INFO:fem.post.create_disp_dat:2, \n",
      "INFO:fem.post.create_disp_dat:3, \n",
      "INFO:fem.post.create_disp_dat:4, \n",
      "INFO:fem.post.create_disp_dat:5, \n",
      "INFO:fem.post.create_disp_dat:6, \n",
      "INFO:fem.post.create_disp_dat:7, \n",
      "INFO:fem.post.create_disp_dat:8, \n",
      "INFO:fem.post.create_disp_dat:9, \n",
      "INFO:fem.post.create_disp_dat:10, \n",
      "INFO:fem.post.create_disp_dat:11, \n",
      "INFO:fem.post.create_disp_dat:12, \n",
      "INFO:fem.post.create_disp_dat:13, \n",
      "INFO:fem.post.create_disp_dat:14, \n",
      "INFO:fem.post.create_disp_dat:15, \n",
      "INFO:fem.post.create_disp_dat:16, \n",
      "INFO:fem.post.create_disp_dat:17, \n",
      "INFO:fem.post.create_disp_dat:18, \n",
      "INFO:fem.post.create_disp_dat:19, \n",
      "INFO:fem.post.create_disp_dat:20, \n",
      "INFO:fem.post.create_disp_dat:21, \n",
      "INFO:fem.post.create_disp_dat:22, \n",
      "INFO:fem.post.create_disp_dat:23, \n",
      "INFO:fem.post.create_disp_dat:24, \n",
      "INFO:fem.post.create_disp_dat:25, \n",
      "INFO:fem.post.create_disp_dat:26, \n",
      "INFO:fem.post.create_disp_dat:27, \n",
      "INFO:fem.post.create_disp_dat:28, \n",
      "INFO:fem.post.create_disp_dat:29, \n",
      "INFO:fem.post.create_disp_dat:30, \n",
      "INFO:fem.post.create_disp_dat:31, \n",
      "INFO:fem.post.create_disp_dat:32, \n",
      "INFO:fem.post.create_disp_dat:33, \n",
      "INFO:fem.post.create_disp_dat:34, \n",
      "INFO:fem.post.create_disp_dat:35, \n",
      "INFO:fem.post.create_disp_dat:36, \n",
      "INFO:fem.post.create_disp_dat:37, \n",
      "INFO:fem.post.create_disp_dat:38, \n",
      "INFO:fem.post.create_disp_dat:39, \n",
      "INFO:fem.post.create_disp_dat:40, \n",
      "INFO:fem.post.create_disp_dat:41, \n",
      "INFO:fem.post.create_disp_dat:42, \n",
      "INFO:fem.post.create_disp_dat:43, \n",
      "INFO:fem.post.create_disp_dat:44, \n",
      "INFO:fem.post.create_disp_dat:45, \n",
      "INFO:fem.post.create_disp_dat:46, \n",
      "INFO:fem.post.create_disp_dat:47, \n",
      "INFO:fem.post.create_disp_dat:48, \n",
      "INFO:fem.post.create_disp_dat:49, \n",
      "INFO:fem.post.create_disp_dat:50, \n",
      "INFO:fem.post.create_disp_dat:done.\n"
     ]
    },
    {
     "data": {
      "text/plain": [
       "0"
      ]
     },
     "execution_count": 10,
     "metadata": {},
     "output_type": "execute_result"
    }
   ],
   "source": [
    "from fem.post.create_disp_dat import create_dat\n",
    "\n",
    "create_dat(nodout=sim_folder / 'nodout')"
   ]
  },
  {
   "cell_type": "code",
   "execution_count": 12,
   "metadata": {},
   "outputs": [
    {
     "name": "stdout",
     "output_type": "stream",
     "text": [
      "{'num_nodes': 275, 'num_dims': 4, 'num_timesteps': 50}\n"
     ]
    }
   ],
   "source": [
    "from fem.post.create_res_sim import read_header\n",
    "\n",
    "dispout = 'disp.dat'\n",
    "header = read_header(dispout)\n",
    "\n",
    "print(header)"
   ]
  },
  {
   "cell_type": "code",
   "execution_count": 8,
   "metadata": {},
   "outputs": [
    {
     "name": "stdout",
     "output_type": "stream",
     "text": [
      "(51, 51, 101)\n"
     ]
    }
   ],
   "source": [
    "from fem.mesh import fem_mesh\n",
    "\n",
    "node_id_coords = fem_mesh.load_nodeIDs_coords(nodes)\n",
    "[snic, axes] = fem_mesh.SortNodeIDs(node_id_coords)\n",
    "\n",
    "print(snic.shape)"
   ]
  },
  {
   "cell_type": "code",
   "execution_count": 15,
   "metadata": {},
   "outputs": [
    {
     "name": "stderr",
     "output_type": "stream",
     "text": [
      "INFO:fem.post.create_res_sim:Total Timesteps: 50\n",
      "INFO:fem.post.create_res_sim:Extracting timestep:\n",
      "INFO:fem.post.create_res_sim:1\n"
     ]
    },
    {
     "name": "stdout",
     "output_type": "stream",
     "text": [
      "50 0.0 0\n",
      "[[    51   2652   5253 ... 254949 257550 260151]\n",
      " [   102   2703   5304 ... 255000 257601 260202]\n",
      " [   153   2754   5355 ... 255051 257652 260253]\n",
      " ...\n",
      " [  2499   5100   7701 ... 257397 259998 262599]\n",
      " [  2550   5151   7752 ... 257448 260049 262650]\n",
      " [  2601   5202   7803 ... 257499 260100 262701]]\n"
     ]
    },
    {
     "name": "stderr",
     "output_type": "stream",
     "text": [
      "INFO:fem.post.create_res_sim:2\n",
      "INFO:fem.post.create_res_sim:3\n",
      "INFO:fem.post.create_res_sim:4\n",
      "INFO:fem.post.create_res_sim:5\n",
      "INFO:fem.post.create_res_sim:6\n",
      "INFO:fem.post.create_res_sim:7\n",
      "INFO:fem.post.create_res_sim:8\n",
      "INFO:fem.post.create_res_sim:9\n",
      "INFO:fem.post.create_res_sim:10\n",
      "INFO:fem.post.create_res_sim:11\n",
      "INFO:fem.post.create_res_sim:12\n",
      "INFO:fem.post.create_res_sim:13\n",
      "INFO:fem.post.create_res_sim:14\n",
      "INFO:fem.post.create_res_sim:15\n",
      "INFO:fem.post.create_res_sim:16\n",
      "INFO:fem.post.create_res_sim:17\n",
      "INFO:fem.post.create_res_sim:18\n",
      "INFO:fem.post.create_res_sim:19\n",
      "INFO:fem.post.create_res_sim:20\n",
      "INFO:fem.post.create_res_sim:21\n",
      "INFO:fem.post.create_res_sim:22\n",
      "INFO:fem.post.create_res_sim:23\n",
      "INFO:fem.post.create_res_sim:24\n",
      "INFO:fem.post.create_res_sim:25\n",
      "INFO:fem.post.create_res_sim:26\n",
      "INFO:fem.post.create_res_sim:27\n",
      "INFO:fem.post.create_res_sim:28\n",
      "INFO:fem.post.create_res_sim:29\n",
      "INFO:fem.post.create_res_sim:30\n",
      "INFO:fem.post.create_res_sim:31\n",
      "INFO:fem.post.create_res_sim:32\n",
      "INFO:fem.post.create_res_sim:33\n",
      "INFO:fem.post.create_res_sim:34\n",
      "INFO:fem.post.create_res_sim:35\n",
      "INFO:fem.post.create_res_sim:36\n",
      "INFO:fem.post.create_res_sim:37\n",
      "INFO:fem.post.create_res_sim:38\n",
      "INFO:fem.post.create_res_sim:39\n",
      "INFO:fem.post.create_res_sim:40\n",
      "INFO:fem.post.create_res_sim:41\n",
      "INFO:fem.post.create_res_sim:42\n",
      "INFO:fem.post.create_res_sim:43\n",
      "INFO:fem.post.create_res_sim:44\n",
      "INFO:fem.post.create_res_sim:45\n",
      "INFO:fem.post.create_res_sim:46\n",
      "INFO:fem.post.create_res_sim:47\n",
      "INFO:fem.post.create_res_sim:48\n",
      "INFO:fem.post.create_res_sim:49\n",
      "INFO:fem.post.create_res_sim:50\n",
      "INFO:fem.post.create_res_sim:\n",
      "Done extracting all timesteps.\n",
      "INFO:fem.post.create_res_sim:Saving data to: res_sim.mat\n"
     ]
    },
    {
     "data": {
      "text/plain": [
       "0"
      ]
     },
     "execution_count": 15,
     "metadata": {},
     "output_type": "execute_result"
    }
   ],
   "source": [
    "from fem.post.create_res_sim import run as create_res_sim\n",
    "import pathlib\n",
    "import fem\n",
    "\n",
    "load_folder_name = 'load_0'\n",
    "material_folder_name = 'material_0'\n",
    "\n",
    "project_path = pathlib.Path(fem.__file__).parents[1]\n",
    "sims_path = project_path.joinpath('sims')\n",
    "sim_folder = sims_path / load_folder_name / material_folder_name\n",
    "\n",
    "dynadeck = sim_folder / 'Master.dyn'\n",
    "nodes = sims_path / 'nodes.dyn'\n",
    "\n",
    "create_res_sim(dynadeck, nodedyn=nodes)\n"
   ]
  },
  {
   "cell_type": "code",
   "execution_count": 27,
   "metadata": {},
   "outputs": [
    {
     "data": {
      "text/plain": [
       "dict_keys(['__header__', '__version__', '__globals__', 't', 'ele', 'lat', 'axial', 'arfidata'])"
      ]
     },
     "execution_count": 27,
     "metadata": {},
     "output_type": "execute_result"
    }
   ],
   "source": [
    "from scipy.io import loadmat\n",
    "\n",
    "load_folder_name = 'load_0'\n",
    "material_folder_name = 'material_0'\n",
    "\n",
    "project_path = pathlib.Path(fem.__file__).parents[1]\n",
    "sims_path = project_path.joinpath('sims')\n",
    "sim_folder = sims_path / load_folder_name / material_folder_name\n",
    "\n",
    "mat = loadmat(sim_folder / 'res_sim.mat')\n",
    "\n",
    "mat.keys()"
   ]
  },
  {
   "cell_type": "code",
   "execution_count": 28,
   "metadata": {},
   "outputs": [
    {
     "data": {
      "text/plain": [
       "(101, 51, 51, 226)"
      ]
     },
     "execution_count": 28,
     "metadata": {},
     "output_type": "execute_result"
    }
   ],
   "source": [
    "mat['arfidata'].shape"
   ]
  },
  {
   "cell_type": "code",
   "execution_count": 32,
   "metadata": {},
   "outputs": [
    {
     "data": {
      "text/plain": [
       "array([[0. ],\n",
       "       [0.1],\n",
       "       [0.2],\n",
       "       [0.3],\n",
       "       [0.4],\n",
       "       [0.5],\n",
       "       [0.6],\n",
       "       [0.7],\n",
       "       [0.8],\n",
       "       [0.9],\n",
       "       [1. ],\n",
       "       [1.1],\n",
       "       [1.2],\n",
       "       [1.3],\n",
       "       [1.4],\n",
       "       [1.5],\n",
       "       [1.6],\n",
       "       [1.7],\n",
       "       [1.8],\n",
       "       [1.9],\n",
       "       [2. ],\n",
       "       [2.1],\n",
       "       [2.2],\n",
       "       [2.3],\n",
       "       [2.4],\n",
       "       [2.5],\n",
       "       [2.6],\n",
       "       [2.7],\n",
       "       [2.8],\n",
       "       [2.9],\n",
       "       [3. ],\n",
       "       [3.1],\n",
       "       [3.2],\n",
       "       [3.3],\n",
       "       [3.4],\n",
       "       [3.5],\n",
       "       [3.6],\n",
       "       [3.7],\n",
       "       [3.8],\n",
       "       [3.9],\n",
       "       [4. ],\n",
       "       [4.1],\n",
       "       [4.2],\n",
       "       [4.3],\n",
       "       [4.4],\n",
       "       [4.5],\n",
       "       [4.6],\n",
       "       [4.7],\n",
       "       [4.8],\n",
       "       [4.9],\n",
       "       [5. ]])"
      ]
     },
     "execution_count": 32,
     "metadata": {},
     "output_type": "execute_result"
    }
   ],
   "source": [
    "mat['lat']"
   ]
  },
  {
   "cell_type": "code",
   "execution_count": 30,
   "metadata": {},
   "outputs": [
    {
     "name": "stderr",
     "output_type": "stream",
     "text": [
      "DEBUG:matplotlib.colorbar:locator: <matplotlib.ticker.AutoLocator object at 0x7efe939c1dd0>\n"
     ]
    },
    {
     "data": {
      "text/plain": [
       "<matplotlib.colorbar.Colorbar at 0x7efe936d1550>"
      ]
     },
     "execution_count": 30,
     "metadata": {},
     "output_type": "execute_result"
    },
    {
     "data": {
      "image/png": "[encoded data removed]",
      "text/plain": [
       "<Figure size 640x480 with 2 Axes>"
      ]
     },
     "metadata": {},
     "output_type": "display_data"
    }
   ],
   "source": [
    "plt.imshow(mat['arfidata'][:,0,50,:])\n",
    "plt.colorbar()"
   ]
  }
 ],
 "metadata": {
  "kernelspec": {
   "display_name": "fem",
   "language": "python",
   "name": "python3"
  },
  "language_info": {
   "codemirror_mode": {
    "name": "ipython",
    "version": 3
   },
   "file_extension": ".py",
   "mimetype": "text/x-python",
   "name": "python",
   "nbconvert_exporter": "python",
   "pygments_lexer": "ipython3",
   "version": "3.11.0"
  },
  "orig_nbformat": 4
 },
 "nbformat": 4,
 "nbformat_minor": 2
}
