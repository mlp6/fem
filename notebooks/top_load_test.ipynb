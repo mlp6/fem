{
 "cells": [
  {
   "cell_type": "code",
   "execution_count": 1,
   "metadata": {},
   "outputs": [],
   "source": [
    "\n",
    "%load_ext autoreload\n",
    "%autoreload 2"
   ]
  },
  {
   "attachments": {},
   "cell_type": "markdown",
   "metadata": {},
   "source": [
    "Procedure\n",
    "\n",
    "- Create mesh\n",
    "    - Generates object with nodes and elements as properties\n",
    "    - Depends on coordinate system, mesh size, and symmetry conditions"
   ]
  },
  {
   "cell_type": "code",
   "execution_count": 2,
   "metadata": {},
   "outputs": [],
   "source": [
    "%matplotlib inline\n",
    "import matplotlib.pyplot as plt\n",
    "import numpy as np"
   ]
  },
  {
   "attachments": {},
   "cell_type": "markdown",
   "metadata": {},
   "source": [
    "- Create mesh \n",
    "    - Depends on element size and extents\n",
    "    - Returns coordinate axes (size of each is nx, ny, nz)\n",
    "- Add structures to mesh\n",
    "    - Get nodes in struct based on coordinates\n",
    "    - Change part id of elements in struct\n",
    "        - All nodes in element should be within struct? \n",
    "    -- Generate list of node ids in struct\n",
    "- Add boundary constraints \n",
    "    - Depends on mesh symmetry\n",
    "    - Change tc and rc of nodes on faces and edges\n",
    "- Add pml\n",
    "    - Depends on mesh symmetry and pml thickness\n",
    "    - Change part id of non-symmetry plane elements\n",
    "    - Part id + 1 if also in struct\n",
    "- Finish dyna deck\n",
    "    - Add material\n",
    "    - Add load curves\n",
    "    - Add arf load based on field params (pre-generated)\n",
    "    - Add database/control parameters\n",
    "        - Node sets?\n",
    "- Validation functions\n",
    "    - Make sure nodes exist on center axis regardless of mesh symmetry so peak arf load is modeled\n",
    "\n"
   ]
  },
  {
   "cell_type": "code",
   "execution_count": 5,
   "metadata": {},
   "outputs": [],
   "source": [
    "import fem\n",
    "import pathlib\n",
    "\n",
    "from fem.dyna.mesh import Coordinates, DynaMesh\n",
    "from fem.dyna._structure import Structure\n",
    "from fem.dyna.material import KelvinMaxwellViscoelastic\n",
    "\n",
    "project_path = pathlib.Path(fem.__file__).parents[1]\n",
    "sims_path = project_path.joinpath('sims')\n",
    "sims_path.mkdir(parents=True, exist_ok=True)\n",
    "\n",
    "mat1 = KelvinMaxwellViscoelastic(density=1, E=26.11, nu=0.499, eta=2.34)\n",
    "mat2 = KelvinMaxwellViscoelastic(density=1, E=2*26.11, nu=0.499, eta=2.34)\n",
    "\n",
    "struct_list = [\n",
    "    Structure(\n",
    "        shape = 'rectangle', \n",
    "        args = [-1, -0.5, 0, 0.5, -4, -2],\n",
    "        material = mat2,  \n",
    "    ), \n",
    "    # Structure(\n",
    "    #     shape = 'sphere', \n",
    "    #     args = [0, 0, -2, 1],\n",
    "    #     material = mat2,  \n",
    "    # ), \n",
    "]\n",
    "\n",
    "coords = Coordinates(\n",
    "    nx=51, ny=51, nz=101,\n",
    "    xmin=-1.0, xmax=0.0,  # ele\n",
    "    ymin=0.0, ymax=0.5,  # lat\n",
    "    zmin=-4.0, zmax=-0.15   # ax\n",
    ")\n",
    "symmetry = 'q'\n",
    "mesh = DynaMesh(coords, symmetry, mat1)\n",
    "\n",
    "mesh.constrain_boundary_nodes()\n",
    "# mesh.add_pml(pml_thickness=2, exclude_faces=['zmin'])\n",
    "# mesh.add_pml(pml_thickness=2)\n",
    "# mesh.add_struct_list(struct_list)\n",
    "\n",
    "mesh.set_control(end_time=4.5e-3)\n",
    "mesh.set_database(dt=2e-5)\n",
    "mesh.set_master(title='testing')\n",
    "\n",
    "load_curve_id = 1\n",
    "normalization_isppa = 1000\n",
    "field_load_file = project_path.joinpath('loads/test_loads.mat')\n",
    "mesh.add_load_curve(load_curve_id, 'arf', [70e-6, 5e-6])\n",
    "mesh.add_field_arf_load(field_load_file, normalization_isppa, load_curve_id)\n",
    "\n",
    "load_folder_name = 'load_0'\n",
    "material_folder_name = 'material_0'\n",
    "mesh.write_all_dyna_cards(sims_path, load_folder_name, material_folder_name)\n"
   ]
  }
 ],
 "metadata": {
  "kernelspec": {
   "display_name": "fem",
   "language": "python",
   "name": "python3"
  },
  "language_info": {
   "codemirror_mode": {
    "name": "ipython",
    "version": 3
   },
   "file_extension": ".py",
   "mimetype": "text/x-python",
   "name": "python",
   "nbconvert_exporter": "python",
   "pygments_lexer": "ipython3",
   "version": "3.10.11"
  },
  "orig_nbformat": 4
 },
 "nbformat": 4,
 "nbformat_minor": 2
}
