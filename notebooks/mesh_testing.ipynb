{
 "cells": [
  {
   "cell_type": "code",
   "execution_count": 1,
   "metadata": {},
   "outputs": [],
   "source": [
    "%load_ext autoreload\n",
    "%autoreload 2"
   ]
  },
  {
   "cell_type": "code",
   "execution_count": 2,
   "metadata": {},
   "outputs": [],
   "source": [
    "import numpy as np"
   ]
  },
  {
   "attachments": {},
   "cell_type": "markdown",
   "metadata": {},
   "source": [
    "Procedure\n",
    "\n",
    "- Create mesh\n",
    "    - Generates object with nodes and elements as properties\n",
    "    - Depends on coordinate system, mesh size, and symmetry conditions\n",
    "- Add structures \n",
    "    - "
   ]
  },
  {
   "attachments": {},
   "cell_type": "markdown",
   "metadata": {},
   "source": [
    "- Create mesh \n",
    "    - Depends on element size and extents\n",
    "    - Returns coordinate axes (size of each is nx, ny, nz)\n",
    "- Add structures to mesh\n",
    "    - Get nodes in struct based on coordinates\n",
    "    - Change part id of elements in struct\n",
    "        - All nodes in element should be within struct? \n",
    "    -- Generate list of node ids in struct\n",
    "- Add boundary constraints \n",
    "    - Depends on mesh symmetry\n",
    "    - Change tc and rc of nodes on faces and edges\n",
    "- Add pml\n",
    "    - Depends on mesh symmetry and pml thickness\n",
    "    - Change part id of non-symmetry plane elements\n",
    "    - Part id + 1 if also in struct\n",
    "- Finish dyna deck\n",
    "    - Add material\n",
    "    - Add load curves\n",
    "    - Add arf load based on field params (pre-generated)\n",
    "    - Add database/control parameters\n",
    "        - Node sets?\n",
    "- Validation functions\n",
    "    - Make sure nodes exist on center axis regardless of mesh symmetry so peak arf load is modeled\n",
    "\n"
   ]
  },
  {
   "attachments": {},
   "cell_type": "markdown",
   "metadata": {},
   "source": [
    "- Check get_plane_node_ids to see if 0s are necessary\n",
    "- Fix formatting of numbers in material cards\n",
    "- Fix pml/struct interface with 4 node overlap \n",
    "    - Check len(pml_and_struct_nodes) condition is valid\n",
    "- Add validation functions\n",
    "    - Nodes exist on center axis regardless of mesh symmetry so peak arf load is modeled\n",
    "    - Mesh extent minima are less than maxima\n",
    "- Add card dictionary/dataclass to contain all dyna cards and defaults\n",
    "    - Materials\n",
    "    - Load curves\n",
    "    - Loads (nodal forces list)\n",
    "    - Database\n",
    "    - Master keyword file\n",
    "- Add nested and unnested folder structure write out options\n",
    "    - Unnested: all files in same folder for single simulation\n",
    "    - Nested: folder structure for batch simulations:\n",
    "        project/mesh.dyn\n",
    "               /index file \n",
    "               /load_folders/arf_load.dyn\n",
    "                            /material_folders/materials.dyn\n",
    "                                             /master.dyn\n",
    "    - Create reader/writer for loading the index file and extracting simulation data. Use generic folder names (arf_load_x, material_x) and keep variable parameters associated with folder x in index file"
   ]
  },
  {
   "attachments": {},
   "cell_type": "markdown",
   "metadata": {},
   "source": []
  },
  {
   "cell_type": "code",
   "execution_count": null,
   "metadata": {},
   "outputs": [],
   "source": [
    "# @dataclass\n",
    "# class Extent:\n",
    "#     x: Tuple[float, float]\n",
    "#     y: Tuple[float, float]\n",
    "#     z: Tuple[float, float]\n",
    "\n",
    "# @dataclass\n",
    "# class Coordinates:\n",
    "#     nx: int\n",
    "#     ny: int\n",
    "#     nz: int\n",
    "#     extent: Extent\n",
    "#     x: np.ndarray = field(init=False, repr=False)\n",
    "#     y: np.ndarray = field(init=False, repr=False)\n",
    "#     z: np.ndarray = field(init=False, repr=False)\n",
    "\n",
    "#     def __post_init__(self):\n",
    "#         self.x = np.linspace(self.extent.x[0], self.extent.x[1], self.nx)\n",
    "#         self.y = np.linspace(self.extent.y[0], self.extent.y[1], self.ny)\n",
    "#         self.z = np.linspace(self.extent.z[0], self.extent.z[1], self.nz)\n"
   ]
  },
  {
   "cell_type": "code",
   "execution_count": 67,
   "metadata": {},
   "outputs": [
    {
     "name": "stdout",
     "output_type": "stream",
     "text": [
      "{}\n",
      "{'xc': 0, 'yc': 0, 'zc': -2, 'radius': 1}\n"
     ]
    }
   ],
   "source": [
    "from typing import List, Dict\n",
    "from dataclasses import dataclass, field\n",
    "from fem.dyna.material import Material\n",
    "\n",
    "@dataclass\n",
    "class Structure:\n",
    "    shape: str\n",
    "    material: Material\n",
    "    args: list = field(default_factory=list)\n",
    "    kwargs: dict = field(default_factory=dict)\n",
    "\n",
    "struct_list = [\n",
    "    Structure(\n",
    "        shape = 'rectangle', \n",
    "        args = [-1, -0.5, -0.5, -0, -4, -2],\n",
    "        material = mat2,  \n",
    "    ), \n",
    "    Structure(\n",
    "        shape = 'sphere', \n",
    "        # args = [0, 0, -2, 1],\n",
    "        kwargs = {'xc': 0, 'yc': 0, 'zc': -2, 'radius': 1},\n",
    "        material = mat2,  \n",
    "    ), \n",
    "]\n",
    "\n",
    "for s in struct_list:\n",
    "    print(s.kwargs)"
   ]
  },
  {
   "cell_type": "code",
   "execution_count": 2,
   "metadata": {},
   "outputs": [
    {
     "ename": "NameError",
     "evalue": "name 'Structure' is not defined",
     "output_type": "error",
     "traceback": [
      "\u001b[1;31m---------------------------------------------------------------------------\u001b[0m",
      "\u001b[1;31mNameError\u001b[0m                                 Traceback (most recent call last)",
      "Cell \u001b[1;32mIn[2], line 22\u001b[0m\n\u001b[0;32m      5\u001b[0m mat2 \u001b[39m=\u001b[39m KelvinMaxwellViscoelastic(density\u001b[39m=\u001b[39m\u001b[39m1\u001b[39m, E\u001b[39m=\u001b[39m\u001b[39m2\u001b[39m\u001b[39m*\u001b[39m\u001b[39m26.11\u001b[39m, nu\u001b[39m=\u001b[39m\u001b[39m0.499\u001b[39m, eta\u001b[39m=\u001b[39m\u001b[39m2.34\u001b[39m)\n\u001b[0;32m      7\u001b[0m \u001b[39m# struct_list = [\u001b[39;00m\n\u001b[0;32m      8\u001b[0m \u001b[39m#     {\u001b[39;00m\n\u001b[0;32m      9\u001b[0m \u001b[39m#         'shape': 'rectangle', \u001b[39;00m\n\u001b[1;32m   (...)\u001b[0m\n\u001b[0;32m     18\u001b[0m \u001b[39m#     }, \u001b[39;00m\n\u001b[0;32m     19\u001b[0m \u001b[39m# ]\u001b[39;00m\n\u001b[0;32m     21\u001b[0m struct_list \u001b[39m=\u001b[39m [\n\u001b[1;32m---> 22\u001b[0m     Structure(\n\u001b[0;32m     23\u001b[0m         shape \u001b[39m=\u001b[39m \u001b[39m'\u001b[39m\u001b[39mrectangle\u001b[39m\u001b[39m'\u001b[39m, \n\u001b[0;32m     24\u001b[0m         args \u001b[39m=\u001b[39m [\u001b[39m-\u001b[39m\u001b[39m1\u001b[39m, \u001b[39m-\u001b[39m\u001b[39m0.5\u001b[39m, \u001b[39m-\u001b[39m\u001b[39m0.5\u001b[39m, \u001b[39m-\u001b[39m\u001b[39m0\u001b[39m, \u001b[39m-\u001b[39m\u001b[39m4\u001b[39m, \u001b[39m-\u001b[39m\u001b[39m2\u001b[39m],\n\u001b[0;32m     25\u001b[0m         material \u001b[39m=\u001b[39m mat2,  \n\u001b[0;32m     26\u001b[0m     ), \n\u001b[0;32m     27\u001b[0m     Structure(\n\u001b[0;32m     28\u001b[0m         shape \u001b[39m=\u001b[39m \u001b[39m'\u001b[39m\u001b[39msphere\u001b[39m\u001b[39m'\u001b[39m, \n\u001b[0;32m     29\u001b[0m         args \u001b[39m=\u001b[39m [\u001b[39m0\u001b[39m, \u001b[39m0\u001b[39m, \u001b[39m-\u001b[39m\u001b[39m2\u001b[39m, \u001b[39m1\u001b[39m],\n\u001b[0;32m     30\u001b[0m         \u001b[39m# kwargs = {'xc': 0, 'yc': 0, 'zc': -2, 'radius': 1},\u001b[39;00m\n\u001b[0;32m     31\u001b[0m         material \u001b[39m=\u001b[39m mat2,  \n\u001b[0;32m     32\u001b[0m     ), \n\u001b[0;32m     33\u001b[0m ]\n\u001b[0;32m     35\u001b[0m coords \u001b[39m=\u001b[39m Coordinates(\n\u001b[0;32m     36\u001b[0m     nx\u001b[39m=\u001b[39m\u001b[39m11\u001b[39m, ny\u001b[39m=\u001b[39m\u001b[39m11\u001b[39m, nz\u001b[39m=\u001b[39m\u001b[39m11\u001b[39m,\n\u001b[0;32m     37\u001b[0m     xmin\u001b[39m=\u001b[39m\u001b[39m-\u001b[39m\u001b[39m1.0\u001b[39m, xmax\u001b[39m=\u001b[39m\u001b[39m0.0\u001b[39m,\n\u001b[0;32m     38\u001b[0m     ymin\u001b[39m=\u001b[39m\u001b[39m-\u001b[39m\u001b[39m1.0\u001b[39m, ymax\u001b[39m=\u001b[39m\u001b[39m0.0\u001b[39m,\n\u001b[0;32m     39\u001b[0m     zmin\u001b[39m=\u001b[39m\u001b[39m-\u001b[39m\u001b[39m4.0\u001b[39m, zmax\u001b[39m=\u001b[39m\u001b[39m0.0\u001b[39m\n\u001b[0;32m     40\u001b[0m )\n\u001b[0;32m     41\u001b[0m coords\u001b[39m.\u001b[39mx\n",
      "\u001b[1;31mNameError\u001b[0m: name 'Structure' is not defined"
     ]
    }
   ],
   "source": [
    "from fem.dyna.mesh import Coordinates, DynaMesh\n",
    "from fem.dyna._structure import Structure\n",
    "from fem.dyna.material import KelvinMaxwellViscoelastic\n",
    "\n",
    "mat = KelvinMaxwellViscoelastic(density=1, E=26.11, nu=0.499, eta=2.34)\n",
    "mat2 = KelvinMaxwellViscoelastic(density=1, E=2*26.11, nu=0.499, eta=2.34)\n",
    "\n",
    "# struct_list = [\n",
    "#     {\n",
    "#         'shape': 'rectangle', \n",
    "#         'struct_args': [-1, -0.5, -0.5, -0, -4, -2],\n",
    "#         'material': mat2,  \n",
    "#     }, \n",
    "#     {\n",
    "#         'shape': 'sphere', \n",
    "#         'struct_args': [0, 0, -2, 1],\n",
    "#         'struct_kwargs': {'xc': 0, 'yc': 0, 'zc': -2, 'radius': 1},\n",
    "#         'material': mat2,  \n",
    "#     }, \n",
    "# ]\n",
    "\n",
    "struct_list = [\n",
    "    Structure(\n",
    "        shape = 'rectangle', \n",
    "        args = [-1, -0.5, -0.5, -0, -4, -2],\n",
    "        material = mat2,  \n",
    "    ), \n",
    "    Structure(\n",
    "        shape = 'sphere', \n",
    "        args = [0, 0, -2, 1],\n",
    "        # kwargs = {'xc': 0, 'yc': 0, 'zc': -2, 'radius': 1},\n",
    "        material = mat2,  \n",
    "    ), \n",
    "]\n",
    "\n",
    "coords = Coordinates(\n",
    "    nx=11, ny=11, nz=11,\n",
    "    xmin=-1.0, xmax=0.0,\n",
    "    ymin=-1.0, ymax=0.0,\n",
    "    zmin=-4.0, zmax=0.0\n",
    ")\n",
    "coords.x\n",
    "symmetry = 'q'\n",
    "mesh = DynaMesh(coords, symmetry, mat)\n",
    "\n",
    "mesh.constrain_boundary_nodes()\n",
    "mesh.add_pml(pml_thickness=2)\n",
    "mesh.add_struct_list(struct_list)\n",
    "\n",
    "mesh.set_control(end_time=4.5e-3)\n",
    "mesh.set_database(dt=2e-5)\n",
    "mesh.set_master(title='testing')\n",
    "\n",
    "project_path = r\"C:\\Users\\joeyr\\repos\\fem\\sims\"\n",
    "load_folder_name = 'load_0'\n",
    "material_folder_name = 'material_0'\n",
    "mesh.write_all_dyna_cards(project_path, load_folder_name, material_folder_name)\n"
   ]
  },
  {
   "cell_type": "code",
   "execution_count": 49,
   "metadata": {},
   "outputs": [
    {
     "name": "stdout",
     "output_type": "stream",
     "text": [
      "-9.8765E+7\n",
      "-1.2345E-9\n",
      "12345.6789\n"
     ]
    }
   ],
   "source": [
    "def format_dyna_number(num):\n",
    "    snum = str(num)\n",
    "\n",
    "    if len(snum) > 10:\n",
    "        # Convert number to scientific notation\n",
    "        snum = \"{:E}\".format(num)\n",
    "\n",
    "        # If number string is greater than 10 characters, remove leading zeros from exponent\n",
    "        if len(snum) > 10:\n",
    "            base, exponent = snum.split('E')\n",
    "            sign = exponent[0]\n",
    "            exponent = exponent[1:].lstrip('0')\n",
    "            snum = base + 'E' + sign + exponent\n",
    "\n",
    "        # If number string is still greater than 10 characters, remove precision bits to make it 10 characters long\n",
    "        if len(snum) > 10: \n",
    "            base, exponent = snum.split('E')\n",
    "            precision_bits_to_remove = len(snum) - (10 - len(exponent) + 2)\n",
    "            snum = base[:-precision_bits_to_remove] + 'E' + exponent\n",
    "\n",
    "    return snum\n",
    "\n",
    "\n",
    "print(format_dyna_number(-98765432.1))\n",
    "print(format_dyna_number(-0.00000000123456789))\n",
    "print(format_dyna_number(12345.6789))"
   ]
  },
  {
   "cell_type": "code",
   "execution_count": null,
   "metadata": {},
   "outputs": [],
   "source": [
    "np.unique(mesh.elems['pid'])"
   ]
  },
  {
   "cell_type": "code",
   "execution_count": null,
   "metadata": {},
   "outputs": [],
   "source": [
    "def format_dyna_scientific(s):\n",
    "    s = f\"{s:>20.4E}\"\n",
    "    if 'E+' in s:\n",
    "        s = f\" {s.replace('E+0', 'E+')}\" \n",
    "    elif 'E-' in s:\n",
    "        s = f\" {s.replace('E-0', 'E-')}\"\n",
    "    return s\n",
    "\n",
    "t_arf = 70e-6\n",
    "dt = 5e-6\n",
    "tracks_between = 3\n",
    "prf = 10e3\n",
    "t_delay = (tracks_between + 1)/prf\n",
    "n_arf = 3\n",
    "\n",
    "t = []\n",
    "for iarf in range(n_arf):\n",
    "    narf_delay = iarf*t_delay\n",
    "    t.extend([\n",
    "        [narf_delay, 0],\n",
    "        [narf_delay+dt, 1],\n",
    "        [narf_delay+dt+t_arf, 1],\n",
    "        [narf_delay+2*dt+t_arf, 0],\n",
    "    ])\n",
    "\n",
    "for a, o in t:\n",
    "    s = format_dyna_scientific(a) + format_dyna_scientific(o)\n",
    "    print(s)\n"
   ]
  }
 ],
 "metadata": {
  "kernelspec": {
   "display_name": "fem",
   "language": "python",
   "name": "python3"
  },
  "language_info": {
   "codemirror_mode": {
    "name": "ipython",
    "version": 3
   },
   "file_extension": ".py",
   "mimetype": "text/x-python",
   "name": "python",
   "nbconvert_exporter": "python",
   "pygments_lexer": "ipython3",
   "version": "3.10.9"
  },
  "orig_nbformat": 4,
  "vscode": {
   "interpreter": {
    "hash": "943f984112ecfd890cacf39d4434d355eda4458b3ff8e51ae6a5283af1b7eed7"
   }
  }
 },
 "nbformat": 4,
 "nbformat_minor": 2
}
