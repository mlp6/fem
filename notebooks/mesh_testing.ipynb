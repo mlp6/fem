{
 "cells": [
  {
   "cell_type": "code",
   "execution_count": null,
   "metadata": {},
   "outputs": [],
   "source": []
  },
  {
   "cell_type": "code",
   "execution_count": null,
   "metadata": {},
   "outputs": [],
   "source": []
  },
  {
   "cell_type": "code",
   "execution_count": null,
   "metadata": {},
   "outputs": [],
   "source": [
    "%load_ext autoreload\n",
    "%autoreload 2"
   ]
  },
  {
   "attachments": {},
   "cell_type": "markdown",
   "metadata": {},
   "source": [
    "Procedure\n",
    "\n",
    "- Create mesh\n",
    "    - Generates object with nodes and elements as properties\n",
    "    - Depends on coordinate system, mesh size, and symmetry conditions\n",
    "- Add structures \n",
    "    - "
   ]
  },
  {
   "cell_type": "code",
   "execution_count": null,
   "metadata": {},
   "outputs": [],
   "source": [
    "import numpy as np"
   ]
  },
  {
   "attachments": {},
   "cell_type": "markdown",
   "metadata": {},
   "source": [
    "- Check get_plane_node_ids to see if 0s are necessary\n",
    "- Fix formatting of numbers in material cards\n",
    "- Fix pml/struct interface with 4 node overlap \n",
    "    - Check len(pml_and_struct_nodes) condition is valid\n",
    "- Add validation functions\n",
    "    - Nodes exist on center axis regardless of mesh symmetry so peak arf load is modeled\n",
    "    - Mesh extent minima are less than maxima\n",
    "- Add card dictionary/dataclass to contain all dyna cards and defaults\n",
    "    - Materials\n",
    "    - Load curves\n",
    "    - Loads (nodal forces list)\n",
    "    - Database\n",
    "    - Master keyword file\n",
    "- Add nested and unnested folder structure write out options\n",
    "    - Unnested: all files in same folder for single simulation\n",
    "    - Nested: folder structure for batch simulations:\n",
    "        project/mesh.dyn\n",
    "               /index file \n",
    "               /load_folders/arf_load.dyn\n",
    "                            /material_folders/materials.dyn\n",
    "                                             /master.dyn\n",
    "    - Create reader/writer for loading the index file and extracting simulation data. Use generic folder names (arf_load_x, material_x) and keep variable parameters associated with folder x in index file"
   ]
  },
  {
   "attachments": {},
   "cell_type": "markdown",
   "metadata": {},
   "source": [
    "- Create mesh \n",
    "    - Depends on element size and extents\n",
    "    - Returns coordinate axes (size of each is nx, ny, nz)\n",
    "- Add structures to mesh\n",
    "    - Get nodes in struct based on coordinates\n",
    "    - Change part id of elements in struct\n",
    "        - All nodes in element should be within struct? \n",
    "    -- Generate list of node ids in struct\n",
    "- Add boundary constraints \n",
    "    - Depends on mesh symmetry\n",
    "    - Change tc and rc of nodes on faces and edges\n",
    "- Add pml\n",
    "    - Depends on mesh symmetry and pml thickness\n",
    "    - Change part id of non-symmetry plane elements\n",
    "    - Part id + 1 if also in struct\n",
    "- Finish dyna deck\n",
    "    - Add material\n",
    "    - Add load curves\n",
    "    - Add arf load based on field params (pre-generated)\n",
    "    - Add database/control parameters\n",
    "        - Node sets?\n",
    "- Validation functions\n",
    "    - Make sure nodes exist on center axis regardless of mesh symmetry so peak arf load is modeled\n",
    "\n"
   ]
  },
  {
   "attachments": {},
   "cell_type": "markdown",
   "metadata": {},
   "source": []
  },
  {
   "cell_type": "code",
   "execution_count": null,
   "metadata": {},
   "outputs": [],
   "source": [
    "# @dataclass\n",
    "# class Extent:\n",
    "#     x: Tuple[float, float]\n",
    "#     y: Tuple[float, float]\n",
    "#     z: Tuple[float, float]\n",
    "\n",
    "# @dataclass\n",
    "# class Coordinates:\n",
    "#     nx: int\n",
    "#     ny: int\n",
    "#     nz: int\n",
    "#     extent: Extent\n",
    "#     x: np.ndarray = field(init=False, repr=False)\n",
    "#     y: np.ndarray = field(init=False, repr=False)\n",
    "#     z: np.ndarray = field(init=False, repr=False)\n",
    "\n",
    "#     def __post_init__(self):\n",
    "#         self.x = np.linspace(self.extent.x[0], self.extent.x[1], self.nx)\n",
    "#         self.y = np.linspace(self.extent.y[0], self.extent.y[1], self.ny)\n",
    "#         self.z = np.linspace(self.extent.z[0], self.extent.z[1], self.nz)\n"
   ]
  },
  {
   "cell_type": "code",
   "execution_count": null,
   "metadata": {},
   "outputs": [],
   "source": [
    "from fem.dyna.mesh import Coordinates, DynaMesh\n",
    "from fem.dyna._structure import Structure\n",
    "from fem.dyna.material import KelvinMaxwellViscoelastic\n",
    "\n",
    "mat = KelvinMaxwellViscoelastic(density=1, E=26.11, nu=0.499, eta=2.34)\n",
    "mat2 = KelvinMaxwellViscoelastic(density=1, E=2*26.11, nu=0.499, eta=2.34)\n",
    "\n",
    "struct_list = [\n",
    "    Structure(\n",
    "        shape = 'rectangle', \n",
    "        args = [-1, -0.5, -0.5, -0, -4, -2],\n",
    "        material = mat2,  \n",
    "    ), \n",
    "    Structure(\n",
    "        shape = 'sphere', \n",
    "        args = [0, 0, -2, 1],\n",
    "        material = mat2,  \n",
    "    ), \n",
    "]\n",
    "\n",
    "coords = Coordinates(\n",
    "    nx=11, ny=11, nz=11,\n",
    "    xmin=-1.0, xmax=0.0,\n",
    "    ymin=-1.0, ymax=0.0,\n",
    "    zmin=-4.0, zmax=0.0\n",
    ")\n",
    "coords.x\n",
    "symmetry = 'q'\n",
    "mesh = DynaMesh(coords, symmetry, mat)\n",
    "\n",
    "mesh.constrain_boundary_nodes()\n",
    "mesh.add_pml(pml_thickness=2)\n",
    "mesh.add_struct_list(struct_list)\n",
    "\n",
    "mesh.set_control(end_time=4.5e-3)\n",
    "mesh.set_database(dt=2e-5)\n",
    "mesh.set_master(title='testing')\n",
    "\n",
    "project_path = r\"C:\\Users\\joeyr\\repos\\fem\\sims\"\n",
    "load_folder_name = 'load_0'\n",
    "material_folder_name = 'material_0'\n",
    "mesh.write_all_dyna_cards(project_path, load_folder_name, material_folder_name)\n"
   ]
  },
  {
   "cell_type": "code",
   "execution_count": null,
   "metadata": {},
   "outputs": [],
   "source": [
    "from fem.dyna.mesh import Coordinates, DynaMesh\n",
    "from fem.dyna._structure import Structure\n",
    "from fem.dyna.material import KelvinMaxwellViscoelastic\n",
    "\n",
    "mat = KelvinMaxwellViscoelastic(density=1, E=26.11, nu=0.499, eta=2.34)\n",
    "mat2 = KelvinMaxwellViscoelastic(density=1, E=2*26.11, nu=0.499, eta=2.34)\n",
    "\n",
    "struct_list = [\n",
    "    Structure(\n",
    "        shape = 'rectangle', \n",
    "        args = [-1, -0.5, -0.5, -0, -4, -2],\n",
    "        material = mat2,  \n",
    "    ), \n",
    "    Structure(\n",
    "        shape = 'sphere', \n",
    "        args = [0, 0, -2, 1],\n",
    "        material = mat2,  \n",
    "    ), \n",
    "]\n",
    "\n",
    "coords = Coordinates(\n",
    "    nx=11, ny=11, nz=11,\n",
    "    xmin=-1.0, xmax=0.0,\n",
    "    ymin=-1.0, ymax=0.0,\n",
    "    zmin=-4.0, zmax=0.0\n",
    ")\n",
    "coords.x\n",
    "symmetry = 'q'\n",
    "mesh = DynaMesh(coords, symmetry, mat)\n",
    "\n",
    "mesh.constrain_boundary_nodes()\n",
    "mesh.add_pml(pml_thickness=2)\n",
    "mesh.add_struct_list(struct_list)\n",
    "\n",
    "mesh.set_control(end_time=4.5e-3)\n",
    "mesh.set_database(dt=2e-5)\n",
    "mesh.set_master(title='testing')\n",
    "\n",
    "project_path = r\"C:\\Users\\joeyr\\repos\\fem\\sims\"\n",
    "load_folder_name = 'load_0'\n",
    "material_folder_name = 'material_0'\n",
    "mesh.write_all_dyna_cards(project_path, load_folder_name, material_folder_name)\n"
   ]
  },
  {
   "cell_type": "code",
   "execution_count": null,
   "metadata": {},
   "outputs": [],
   "source": [
    "from scipy.io import loadmat\n",
    "import pathlib\n",
    "\n"
   ]
  },
  {
   "cell_type": "code",
   "execution_count": null,
   "metadata": {},
   "outputs": [],
   "source": [
    "print(pathlib.__file__)"
   ]
  },
  {
   "cell_type": "code",
   "execution_count": 38,
   "metadata": {},
   "outputs": [
    {
     "name": "stdout",
     "output_type": "stream",
     "text": [
      "C:\\Users\\joeyr\\repos\\fem\\fem\\__init__.py\n",
      "C:\\Users\\joeyr\\repos\\fem\\loads\n",
      "[WindowsPath('C:/Users/joeyr/repos/fem/loads/ArfLoad.dyn'), WindowsPath('C:/Users/joeyr/repos/fem/loads/f2dout.mat')]\n"
     ]
    }
   ],
   "source": [
    "import fem\n",
    "\n",
    "print(fem.__file__)\n",
    "p = pathlib.Path(fem.__file__).parents[1].joinpath('loads')\n",
    "print(p)\n",
    "print(list(p.glob('*')))"
   ]
  },
  {
   "cell_type": "code",
   "execution_count": null,
   "metadata": {},
   "outputs": [],
   "source": [
    "load_path = pathlib.Path(fem.__file__).parents[1].joinpath('loads')\n",
    "mat_file = load_path / 'f2dout.mat'\n",
    "mat = loadmat(mat_file)\n",
    "\n",
    "mat"
   ]
  },
  {
   "cell_type": "code",
   "execution_count": 41,
   "metadata": {},
   "outputs": [
    {
     "data": {
      "text/plain": [
       "{'__header__': b'MATLAB 5.0 MAT-file, Platform: GLNXA64, Created on: Sat Mar 18 18:10:26 2023',\n",
       " '__version__': '1.0',\n",
       " '__globals__': [],\n",
       " 'FIELD_PARAMS': array([[(array([[ 1.00000e+00, -1.00000e+00,  0.00000e+00, -4.35000e+00,\n",
       "                  7.00000e+00],\n",
       "                [ 2.00000e+00, -9.75000e-01,  0.00000e+00, -4.35000e+00,\n",
       "                  7.00000e+00],\n",
       "                [ 3.00000e+00, -9.50000e-01,  0.00000e+00, -4.35000e+00,\n",
       "                  7.00000e+00],\n",
       "                ...,\n",
       "                [ 2.80438e+05, -5.00000e-02,  9.75000e-01, -1.00000e-01,\n",
       "                  7.00000e+00],\n",
       "                [ 2.80439e+05, -2.50000e-02,  9.75000e-01, -1.00000e-01,\n",
       "                  7.00000e+00],\n",
       "                [ 2.80440e+05,  0.00000e+00,  9.75000e-01, -1.00000e-01,\n",
       "                  7.00000e+00]]), array([[ 0.     , -0.01   ,  0.0435 ],\n",
       "                [ 0.     , -0.00975,  0.0435 ],\n",
       "                [ 0.     , -0.0095 ,  0.0435 ],\n",
       "                ...,\n",
       "                [ 0.00975, -0.0005 ,  0.001  ],\n",
       "                [ 0.00975, -0.00025,  0.001  ],\n",
       "                [ 0.00975,  0.     ,  0.001  ]]), array([[0.7]]), array([[1.5]]), array([[0.  , 0.  , 0.02]]), array([[4.21]]), array(['vf73'], dtype='<U4'), array(['gaussian'], dtype='<U8'), array([[1540]], dtype=uint16), array([[200000000]]))]],\n",
       "       dtype=[('measurementPointsandNodes', 'O'), ('measurementPoints', 'O'), ('alpha', 'O'), ('Fnum', 'O'), ('focus', 'O'), ('Frequency', 'O'), ('Transducer', 'O'), ('Impulse', 'O'), ('soundSpeed', 'O'), ('samplingFrequency', 'O')]),\n",
       " 'intensity': array([[2.74251574e-23, 3.02027902e-23, 2.63630994e-23, ...,\n",
       "         2.23185506e-22, 1.74824134e-22, 2.31875832e-22]])}"
      ]
     },
     "execution_count": 41,
     "metadata": {},
     "output_type": "execute_result"
    }
   ],
   "source": [
    "load_path = pathlib.Path(fem.__file__).parents[1].joinpath('loads')\n",
    "mat_file = load_path / 'f2dout.mat'\n",
    "mat = loadmat(mat_file)\n",
    "\n",
    "mat"
   ]
  },
  {
   "cell_type": "code",
   "execution_count": null,
   "metadata": {},
   "outputs": [],
   "source": [
    "intensity = mat['intensity']\n",
    "field_params = mat['FIELD_PARAMS']\n",
    "mpn = field_params['measurementPointsandNodes'][0,0]\n",
    "\n",
    "print(mpn)\n",
    "\n",
    "# print(field_params.dtype)\n",
    "# print(field_params['measurementPointsandNodes'])\n",
    "# print(field_params['measurementPointsandNodes'].shape)\n",
    "# print(field_params['measurementPointsandNodes'][0,0].shape)\n",
    "# print(field_params['measurementPointsandNodes'][0,0])\n",
    "\n",
    "# print(intensity.shape)\n",
    "# print(field_params.dtype) \n",
    "# print(field_params['measurementPointsandNodes'][0,0].shape)"
   ]
  },
  {
   "cell_type": "code",
   "execution_count": null,
   "metadata": {},
   "outputs": [],
   "source": [
    "# annas cell :)\n"
   ]
  },
  {
   "attachments": {},
   "cell_type": "markdown",
   "metadata": {},
   "source": [
    "### Load curves"
   ]
  },
  {
   "cell_type": "code",
   "execution_count": 60,
   "metadata": {},
   "outputs": [
    {
     "name": "stdout",
     "output_type": "stream",
     "text": [
      "           0.0000E+0           0.0000E+0\n",
      "           5.0000E-6           1.0000E+0\n",
      "           7.5000E-5           1.0000E+0\n",
      "           8.0000E-5           0.0000E+0\n"
     ]
    }
   ],
   "source": [
    "def format_dyna_scientific(s):\n",
    "    s = f\"{s:>20.4E}\"\n",
    "    if 'E+' in s:\n",
    "        s = f\" {s.replace('E+0', 'E+')}\" \n",
    "    elif 'E-' in s:\n",
    "        s = f\" {s.replace('E-0', 'E-')}\"\n",
    "    return s\n",
    "\n",
    "t_arf = 70e-6\n",
    "dt = 5e-6\n",
    "tracks_between = 3\n",
    "prf = 10e3\n",
    "t_delay = (tracks_between + 1)/prf\n",
    "n_arf = 1\n",
    "\n",
    "t = []\n",
    "for iarf in range(n_arf):\n",
    "    narf_delay = iarf*t_delay\n",
    "    t.extend([\n",
    "        [narf_delay, 0],\n",
    "        [narf_delay+dt, 1],\n",
    "        [narf_delay+dt+t_arf, 1],\n",
    "        [narf_delay+2*dt+t_arf, 0],\n",
    "    ])\n",
    "\n",
    "for a, o in t:\n",
    "    s = format_dyna_scientific(a) + format_dyna_scientific(o)\n",
    "    print(s)\n"
   ]
  }
 ],
 "metadata": {
  "kernelspec": {
   "display_name": "fem",
   "language": "python",
   "name": "python3"
  },
  "language_info": {
   "codemirror_mode": {
    "name": "ipython",
    "version": 3
   },
   "file_extension": ".py",
   "mimetype": "text/x-python",
   "name": "python",
   "nbconvert_exporter": "python",
   "pygments_lexer": "ipython3",
   "version": "3.10.9"
  },
  "orig_nbformat": 4,
  "vscode": {
   "interpreter": {
    "hash": "943f984112ecfd890cacf39d4434d355eda4458b3ff8e51ae6a5283af1b7eed7"
   }
  }
 },
 "nbformat": 4,
 "nbformat_minor": 2
}
