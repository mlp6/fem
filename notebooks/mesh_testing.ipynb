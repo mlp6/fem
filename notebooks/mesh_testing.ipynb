{
 "cells": [
  {
   "cell_type": "code",
   "execution_count": 1,
   "metadata": {},
   "outputs": [],
   "source": [
    "\n",
    "%load_ext autoreload\n",
    "%autoreload 2"
   ]
  },
  {
   "attachments": {},
   "cell_type": "markdown",
   "metadata": {},
   "source": [
    "Procedure\n",
    "\n",
    "- Create mesh\n",
    "    - Generates object with nodes and elements as properties\n",
    "    - Depends on coordinate system, mesh size, and symmetry conditions\n",
    "- Add structures \n",
    "    - "
   ]
  },
  {
   "cell_type": "code",
   "execution_count": 2,
   "metadata": {},
   "outputs": [],
   "source": [
    "%matplotlib inline\n",
    "import matplotlib.pyplot as plt\n",
    "import numpy as np"
   ]
  },
  {
   "attachments": {},
   "cell_type": "markdown",
   "metadata": {},
   "source": [
    "- Check get_plane_node_ids to see if 0s are necessary\n",
    "- Fix formatting of numbers in material cards\n",
    "- Fix pml/struct interface with 4 node overlap \n",
    "    - Check len(pml_and_struct_nodes) condition is valid\n",
    "- Add validation functions\n",
    "    - Nodes exist on center axis regardless of mesh symmetry so peak arf load is modeled\n",
    "    - Mesh extent minima are less than maxima\n",
    "- Add card dictionary/dataclass to contain all dyna cards and defaults\n",
    "    - Materials\n",
    "    - Load curves\n",
    "    - Loads (nodal forces list)\n",
    "    - Database\n",
    "    - Master keyword file\n",
    "- Add nested and unnested folder structure write out options\n",
    "    - Unnested: all files in same folder for single simulation\n",
    "    - Nested: folder structure for batch simulations:\n",
    "        project/mesh.dyn\n",
    "               /index file \n",
    "               /load_folders/arf_load.dyn\n",
    "                            /material_folders/materials.dyn\n",
    "                                             /master.dyn\n",
    "    - Create reader/writer for loading the index file and extracting simulation data. Use generic folder names (arf_load_x, material_x) and keep variable parameters associated with folder x in index file"
   ]
  },
  {
   "attachments": {},
   "cell_type": "markdown",
   "metadata": {},
   "source": [
    "- Create mesh \n",
    "    - Depends on element size and extents\n",
    "    - Returns coordinate axes (size of each is nx, ny, nz)\n",
    "- Add structures to mesh\n",
    "    - Get nodes in struct based on coordinates\n",
    "    - Change part id of elements in struct\n",
    "        - All nodes in element should be within struct? \n",
    "    -- Generate list of node ids in struct\n",
    "- Add boundary constraints \n",
    "    - Depends on mesh symmetry\n",
    "    - Change tc and rc of nodes on faces and edges\n",
    "- Add pml\n",
    "    - Depends on mesh symmetry and pml thickness\n",
    "    - Change part id of non-symmetry plane elements\n",
    "    - Part id + 1 if also in struct\n",
    "- Finish dyna deck\n",
    "    - Add material\n",
    "    - Add load curves\n",
    "    - Add arf load based on field params (pre-generated)\n",
    "    - Add database/control parameters\n",
    "        - Node sets?\n",
    "- Validation functions\n",
    "    - Make sure nodes exist on center axis regardless of mesh symmetry so peak arf load is modeled\n",
    "\n"
   ]
  },
  {
   "attachments": {},
   "cell_type": "markdown",
   "metadata": {},
   "source": []
  },
  {
   "cell_type": "code",
   "execution_count": null,
   "metadata": {},
   "outputs": [],
   "source": [
    "# @dataclass\n",
    "# class Extent:\n",
    "#     x: Tuple[float, float]\n",
    "#     y: Tuple[float, float]\n",
    "#     z: Tuple[float, float]\n",
    "\n",
    "# @dataclass\n",
    "# class Coordinates:\n",
    "#     nx: int\n",
    "#     ny: int\n",
    "#     nz: int\n",
    "#     extent: Extent\n",
    "#     x: np.ndarray = field(init=False, repr=False)\n",
    "#     y: np.ndarray = field(init=False, repr=False)\n",
    "#     z: np.ndarray = field(init=False, repr=False)\n",
    "\n",
    "#     def __post_init__(self):\n",
    "#         self.x = np.linspace(self.extent.x[0], self.extent.x[1], self.nx)\n",
    "#         self.y = np.linspace(self.extent.y[0], self.extent.y[1], self.ny)\n",
    "#         self.z = np.linspace(self.extent.z[0], self.extent.z[1], self.nz)\n"
   ]
  },
  {
   "cell_type": "code",
   "execution_count": 68,
   "metadata": {},
   "outputs": [],
   "source": [
    "import fem\n",
    "import pathlib\n",
    "\n",
    "from fem.dyna.mesh import Coordinates, DynaMesh\n",
    "from fem.dyna._structure import Structure\n",
    "from fem.dyna.material import KelvinMaxwellViscoelastic\n",
    "\n",
    "project_path = pathlib.Path(fem.__file__).parents[1]\n",
    "\n",
    "mat1 = KelvinMaxwellViscoelastic(density=1, E=26.11, nu=0.499, eta=2.34)\n",
    "mat2 = KelvinMaxwellViscoelastic(density=1, E=2*26.11, nu=0.499, eta=2.34)\n",
    "\n",
    "struct_list = [\n",
    "    Structure(\n",
    "        shape = 'rectangle', \n",
    "        args = [-1, -0.5, -0.5, -0, -4, -2],\n",
    "        material = mat2,  \n",
    "    ), \n",
    "    # Structure(\n",
    "    #     shape = 'sphere', \n",
    "    #     args = [0, 0, -2, 1],\n",
    "    #     material = mat2,  \n",
    "    # ), \n",
    "]\n",
    "\n",
    "coords = Coordinates(\n",
    "    nx=3, ny=51, nz=101,\n",
    "    xmin=-1.0, xmax=0.0,  # ele\n",
    "    ymin=0.0, ymax=0.5,  # lat\n",
    "    zmin=-4.0, zmax=-0.15   # ax\n",
    ")\n",
    "symmetry = 'q'\n",
    "mesh = DynaMesh(coords, symmetry, mat1)\n",
    "\n",
    "mesh.constrain_boundary_nodes()\n",
    "mesh.add_pml(pml_thickness=2, exclude_faces=['zmin'])\n",
    "mesh.add_struct_list(struct_list)\n",
    "\n",
    "mesh.set_control(end_time=4.5e-3)\n",
    "mesh.set_database(dt=2e-5)\n",
    "mesh.set_master(title='testing')\n",
    "\n",
    "load_curve_id = 1\n",
    "normalization_isppa = 1000\n",
    "field_load_file = project_path.joinpath('loads/test_loads.mat')\n",
    "mesh.add_load_curve(load_curve_id, 'arf', [70e-6, 5e-6])\n",
    "mesh.add_field_arf_load(field_load_file, normalization_isppa, load_curve_id)\n",
    "\n",
    "load_folder_name = 'load_0'\n",
    "material_folder_name = 'material_0'\n",
    "mesh.write_all_dyna_cards(project_path, load_folder_name, material_folder_name)\n"
   ]
  },
  {
   "cell_type": "code",
   "execution_count": 20,
   "metadata": {},
   "outputs": [
    {
     "name": "stdout",
     "output_type": "stream",
     "text": [
      "(15453,) (15453,) (15453,)\n"
     ]
    }
   ],
   "source": [
    "import pathlib\n",
    "import fem\n",
    "from scipy.io import loadmat\n",
    "\n",
    "load_path = pathlib.Path(fem.__file__).parents[1].joinpath('loads')\n",
    "# mat_file = load_path / 'f2dout.mat'\n",
    "mat_file = load_path / 'test_loads.mat'\n",
    "\n",
    "mat = loadmat(mat_file)\n",
    "c = mat['FIELD_PARAMS']['soundSpeed'][0,0][0][0]*100 # convert from m/s to cm/s\n",
    "alpha_db = mat['FIELD_PARAMS']['alpha'][0,0][0][0]\n",
    "frequency = mat['FIELD_PARAMS']['Frequency'][0,0][0][0]\n",
    "alpha_np = alpha_db * frequency / 8.616\n",
    "\n",
    "normalization_isppa = 1000  # W/cm^2\n",
    "\n",
    "node_ids, intensity = mesh.interpolate_field_to_dyna_intensities(mat_file)\n",
    "point_loads = mesh.calculate_point_loads_from_field_intensities(intensity, normalization_isppa, alpha_np, c)\n",
    "print(node_ids.shape, intensity.shape, point_loads.shape)"
   ]
  },
  {
   "cell_type": "code",
   "execution_count": 51,
   "metadata": {},
   "outputs": [
    {
     "name": "stdout",
     "output_type": "stream",
     "text": [
      "0.25199192536573867\n",
      "1.3229349794077825\n"
     ]
    }
   ],
   "source": [
    "print(point_loads[10630])\n",
    "print(point_loads[10640])"
   ]
  },
  {
   "cell_type": "code",
   "execution_count": 42,
   "metadata": {},
   "outputs": [
    {
     "data": {
      "text/plain": [
       "3"
      ]
     },
     "execution_count": 42,
     "metadata": {},
     "output_type": "execute_result"
    }
   ],
   "source": [
    "10 + 2 + 1 - 10"
   ]
  },
  {
   "cell_type": "code",
   "execution_count": 72,
   "metadata": {},
   "outputs": [
    {
     "name": "stdout",
     "output_type": "stream",
     "text": [
      "5, 2e-05, 2e-05\n",
      "\n",
      "10, 2.3209E+14, 232094812390411\n",
      "\n",
      "10, -2.320E+14, -232094812390411\n",
      "\n",
      "10, 1.0180E-11, 1.01802301e-11\n",
      "\n",
      "10, -1.018E-11, -1.01802301e-11\n",
      "\n",
      "10, 0.25199193, 0.25199192536573867\n",
      "\n",
      "10, -1.3229350, -1.3229349794077825\n",
      "\n",
      "1, 1, 1\n",
      "\n",
      "3, 0.0, 0.0\n",
      "\n",
      "8, 10000102, 10000102\n",
      "\n"
     ]
    }
   ],
   "source": [
    "from fem.dyna._writer import format_dyna_number\n",
    "\n",
    "test_number_list = [\n",
    "    0.00002,\n",
    "    232094812390411,\n",
    "    -232094812390411,\n",
    "    0.101802301e-10,\n",
    "    -0.101802301e-10,\n",
    "    point_loads[10630],\n",
    "    -point_loads[10640],\n",
    "    1,\n",
    "    0.0,\n",
    "    10000102\n",
    "]\n",
    "\n",
    "for n in test_number_list:\n",
    "    snum = format_dyna_number(n)\n",
    "    print(f\"{len(snum)}, {snum}, {n}\\n\")"
   ]
  },
  {
   "cell_type": "code",
   "execution_count": 31,
   "metadata": {},
   "outputs": [
    {
     "data": {
      "text/plain": [
       "dtype([('measurementPointsandNodes', 'O'), ('measurementPoints', 'O'), ('alpha', 'O'), ('Fnum', 'O'), ('focus', 'O'), ('Frequency', 'O'), ('Transducer', 'O'), ('Impulse', 'O'), ('soundSpeed', 'O'), ('samplingFrequency', 'O'), ('lat_extent', 'O'), ('ele_extent', 'O'), ('ax_extent', 'O')])"
      ]
     },
     "execution_count": 31,
     "metadata": {},
     "output_type": "execute_result"
    }
   ],
   "source": [
    "mat['FIELD_PARAMS'].dtype"
   ]
  },
  {
   "cell_type": "code",
   "execution_count": 32,
   "metadata": {},
   "outputs": [
    {
     "ename": "NameError",
     "evalue": "name 'sym' is not defined",
     "output_type": "error",
     "traceback": [
      "\u001b[1;31m---------------------------------------------------------------------------\u001b[0m",
      "\u001b[1;31mNameError\u001b[0m                                 Traceback (most recent call last)",
      "Cell \u001b[1;32mIn[32], line 31\u001b[0m\n\u001b[0;32m     28\u001b[0m body_forces \u001b[39m=\u001b[39m (\u001b[39m2\u001b[39m \u001b[39m*\u001b[39m alpha_np \u001b[39m*\u001b[39m intensity) \u001b[39m/\u001b[39m c\n\u001b[0;32m     29\u001b[0m point_loads \u001b[39m=\u001b[39m body_forces \u001b[39m*\u001b[39m mesh\u001b[39m.\u001b[39mget_element_volume()\n\u001b[1;32m---> 31\u001b[0m \u001b[39mif\u001b[39;00m sym \u001b[39m==\u001b[39m \u001b[39m'\u001b[39m\u001b[39mq\u001b[39m\u001b[39m'\u001b[39m:\n\u001b[0;32m     32\u001b[0m     \u001b[39m# if the load is on the symmetry axis (x = y = 0), then divide by 4; if\u001b[39;00m\n\u001b[0;32m     33\u001b[0m     \u001b[39m# not, check if it is on a symmetry face (x = 0 || y = 0), then divide\u001b[39;00m\n\u001b[0;32m     34\u001b[0m     \u001b[39m# by 2\u001b[39;00m\n\u001b[0;32m     35\u001b[0m     idxq \u001b[39m=\u001b[39m np\u001b[39m.\u001b[39misclose(coords[:,\u001b[39m0\u001b[39m], \u001b[39m0\u001b[39m, atol\u001b[39m=\u001b[39m\u001b[39m1e-4\u001b[39m) \u001b[39m&\u001b[39m np\u001b[39m.\u001b[39misclose(coords[:,\u001b[39m1\u001b[39m], \u001b[39m0\u001b[39m, atol\u001b[39m=\u001b[39m\u001b[39m1e-4\u001b[39m)\n\u001b[0;32m     36\u001b[0m     point_loads[idxq] \u001b[39m=\u001b[39m point_loads[idxq] \u001b[39m/\u001b[39m \u001b[39m4\u001b[39m\n",
      "\u001b[1;31mNameError\u001b[0m: name 'sym' is not defined"
     ]
    }
   ],
   "source": [
    "normalization_isppa = 1000\n",
    "\n",
    "mat = loadmat(mat_file)\n",
    "c = mat['FIELD_PARAMS']['soundSpeed'][0,0][0][0]*100 # convert from m/s to cm/s\n",
    "alpha_db = mat['FIELD_PARAMS']['alpha'][0,0][0][0]\n",
    "frequency = mat['FIELD_PARAMS']['Frequency'][0,0][0][0]\n",
    "alpha_np = alpha_db * frequency / 8.616\n",
    "\n",
    "field_isppa = np.max(intensity)\n",
    "intensity = intensity / field_isppa\n",
    "\n",
    "# toss intensities below 5% of Isppa\n",
    "intensity[intensity < 0.05] = 0\n",
    "\n",
    "# now zero out values near the transducer face b/c they\n",
    "# violated the farfield assumption in field\n",
    "coords = mesh.coords.flatten()\n",
    "intensity[np.isclose(coords[:,2], 0, atol=0.001)] = 0\n",
    "\n",
    "# normalize\n",
    "intensity = intensity * normalization_isppa\n",
    "\n",
    "# convert intensities from Watts to cgs units\n",
    "intensity = intensity * 10000000\n",
    "\n",
    "# Calculate force from F = (2*alpha*I)/c \n",
    "body_forces = (2 * alpha_np * intensity) / c\n",
    "point_loads = body_forces * mesh.get_element_volume()\n",
    "\n",
    "if sym == 'q':\n",
    "    # if the load is on the symmetry axis (x = y = 0), then divide by 4; if\n",
    "    # not, check if it is on a symmetry face (x = 0 || y = 0), then divide\n",
    "    # by 2\n",
    "    idxq = np.isclose(coords[:,0], 0, atol=1e-4) & np.isclose(coords[:,1], 0, atol=1e-4)\n",
    "    point_loads[idxq] = point_loads[idxq] / 4\n",
    "    idxh = np.isclose(coords[:,0], 0, atol=1e-4) ^ np.isclose(coords[:,1], 0, atol=1e-4)\n",
    "    point_loads[idxh] = point_loads[idxh] / 2\n",
    "elif sym == 'hy':\n",
    "    # if the load is on the symmetry face (y=0), then divide by 2\n",
    "    idxh = np.isclose(coords[:,1], 0, atol=1e-4) \n",
    "    point_loads[idxh] = point_loads[idxh] / 2\n",
    "elif sym == 'hx':\n",
    "    # if the load is on the symmetry face (x=0), then divide by 2\n",
    "    idxh = np.isclose(coords[:,0], 0, atol=1e-4) \n",
    "    point_loads[idxh] = point_loads[idxh] / 2"
   ]
  },
  {
   "cell_type": "code",
   "execution_count": 25,
   "metadata": {},
   "outputs": [
    {
     "data": {
      "text/plain": [
       "array([[2, 2, 2, ..., 2, 2, 2],\n",
       "       [2, 2, 2, ..., 2, 2, 2],\n",
       "       [2, 2, 2, ..., 2, 2, 2],\n",
       "       ...,\n",
       "       [2, 2, 2, ..., 2, 2, 2],\n",
       "       [2, 2, 2, ..., 2, 2, 2],\n",
       "       [2, 2, 2, ..., 2, 2, 2]], dtype=int64)"
      ]
     },
     "execution_count": 25,
     "metadata": {},
     "output_type": "execute_result"
    }
   ],
   "source": [
    "npoints = (mesh.coords.nx, mesh.coords.ny, mesh.coords.nz)\n",
    "intensity_3d = intensity.reshape(*npoints)\n"
   ]
  },
  {
   "cell_type": "code",
   "execution_count": 17,
   "metadata": {},
   "outputs": [
    {
     "name": "stdout",
     "output_type": "stream",
     "text": [
      "(262701,)\n"
     ]
    },
    {
     "data": {
      "text/plain": [
       "<matplotlib.image.AxesImage at 0x220372ae320>"
      ]
     },
     "execution_count": 17,
     "metadata": {},
     "output_type": "execute_result"
    },
    {
     "data": {
      "image/png": "[encoded data removed]",
      "text/plain": [
       "<Figure size 640x480 with 2 Axes>"
      ]
     },
     "metadata": {},
     "output_type": "display_data"
    }
   ],
   "source": [
    "from scipy.interpolate import interpn\n",
    "from itertools import product\n",
    "from scipy.io import loadmat\n",
    "import pathlib\n",
    "import fem\n",
    "\n",
    "load_path = pathlib.Path(fem.__file__).parents[1].joinpath('loads')\n",
    "# mat_file = load_path / 'f2dout.mat'\n",
    "mat_file = load_path / 'test_loads.mat'\n",
    "# mat_file = load_path / 'vf73_intensityMap_reference.mat'\n",
    "mat = loadmat(mat_file)\n",
    "\n",
    "extent = dict(\n",
    "    lat=mat['FIELD_PARAMS']['lat_extent'][0,0].reshape(-1,),\n",
    "    ele=mat['FIELD_PARAMS']['ele_extent'][0,0].reshape(-1,),\n",
    "    ax=mat['FIELD_PARAMS']['ax_extent'][0,0].reshape(-1,),\n",
    ")\n",
    "\n",
    "nlat, nele, nax = len(extent['lat']), len(extent['ele']), len(extent['ax'])\n",
    "intensity = mat['intensity'].reshape(nax, nlat, nele)\n",
    "intensity = np.swapaxes(intensity, 0, 2)\n",
    "intensity = np.flip(intensity, axis=2)\n",
    "\n",
    "dyna_points = mesh.coords.flatten()\n",
    "npoints = (mesh.coords.nx, mesh.coords.ny, mesh.coords.nz)\n",
    "\n",
    "field_points = (extent['ele']*1e2, extent['lat']*1e2, -extent['ax']*1e2)\n",
    "\n",
    "intensity_interp = interpn(field_points, intensity, dyna_points)\n",
    "print(intensity_interp.shape)\n",
    "intensity_interp = intensity_interp.reshape(*npoints)\n",
    "\n",
    "plt.subplot(121)\n",
    "plt.imshow(intensity[-1,:,:].T)\n",
    "plt.subplot(122)\n",
    "plt.imshow(intensity_interp[-1,:,:].T)"
   ]
  },
  {
   "cell_type": "code",
   "execution_count": 19,
   "metadata": {},
   "outputs": [
    {
     "data": {
      "text/plain": [
       "(262700,)"
      ]
     },
     "execution_count": 19,
     "metadata": {},
     "output_type": "execute_result"
    }
   ],
   "source": [
    "np.arange(1, mesh.n_nodes + 1).shape"
   ]
  }
 ],
 "metadata": {
  "kernelspec": {
   "display_name": "fem",
   "language": "python",
   "name": "python3"
  },
  "language_info": {
   "codemirror_mode": {
    "name": "ipython",
    "version": 3
   },
   "file_extension": ".py",
   "mimetype": "text/x-python",
   "name": "python",
   "nbconvert_exporter": "python",
   "pygments_lexer": "ipython3",
   "version": "3.10.11"
  },
  "orig_nbformat": 4,
  "vscode": {
   "interpreter": {
    "hash": "943f984112ecfd890cacf39d4434d355eda4458b3ff8e51ae6a5283af1b7eed7"
   }
  }
 },
 "nbformat": 4,
 "nbformat_minor": 2
}
