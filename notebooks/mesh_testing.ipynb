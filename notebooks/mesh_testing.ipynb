{
 "cells": [
  {
   "cell_type": "code",
   "execution_count": 1,
   "metadata": {},
   "outputs": [],
   "source": [
    "%load_ext autoreload\n",
    "%autoreload 2"
   ]
  },
  {
   "cell_type": "code",
   "execution_count": 2,
   "metadata": {},
   "outputs": [],
   "source": [
    "import numpy as np"
   ]
  },
  {
   "attachments": {},
   "cell_type": "markdown",
   "metadata": {},
   "source": [
    "- Create mesh \n",
    "    - Depends on element size and extents\n",
    "    - Returns coordinate axes (size of each is nx, ny, nz)\n",
    "- Add structures to mesh\n",
    "    - Get nodes in struct based on coordinates\n",
    "    - Change part id of elements in struct\n",
    "        - All nodes in element should be within struct? \n",
    "    -- Generate list of node ids in struct\n",
    "- Add boundary constraints \n",
    "    - Depends on mesh symmetry\n",
    "    - Change tc and rc of nodes on faces and edges\n",
    "- Add pml\n",
    "    - Depends on mesh symmetry and pml thickness\n",
    "    - Change part id of non-symmetry plane elements\n",
    "    - Part id + 1 if also in struct\n",
    "- Finish dyna deck\n",
    "    - Add material\n",
    "    - Add load curves\n",
    "    - Add arf load based on field params (pre-generated)\n",
    "    - Add database/control parameters\n",
    "        - Node sets?\n",
    "- Validation functions\n",
    "    - Make sure nodes exist on center axis regardless of mesh symmetry so peak arf load is modeled"
   ]
  },
  {
   "attachments": {},
   "cell_type": "markdown",
   "metadata": {},
   "source": [
    "- Check get_plane_node_ids to see if 0s are necessary\n",
    "- Fix constraints in constrain_boundary_nodes\n",
    "- Fix formatting of numbers in material cards\n",
    "- Fix pml/struct interface with 4 node overlap \n",
    "    - Check len(pml_and_struct_nodes) condition is valid\n",
    "- Add validation functions\n",
    "    - Nodes exist on center axis regardless of mesh symmetry so peak arf load is modeled\n",
    "    - Mesh extent minima are less than maxima"
   ]
  },
  {
   "cell_type": "code",
   "execution_count": null,
   "metadata": {},
   "outputs": [],
   "source": [
    "# @dataclass\n",
    "# class Extent:\n",
    "#     x: Tuple[float, float]\n",
    "#     y: Tuple[float, float]\n",
    "#     z: Tuple[float, float]\n",
    "\n",
    "# @dataclass\n",
    "# class Coordinates:\n",
    "#     nx: int\n",
    "#     ny: int\n",
    "#     nz: int\n",
    "#     extent: Extent\n",
    "#     x: np.ndarray = field(init=False, repr=False)\n",
    "#     y: np.ndarray = field(init=False, repr=False)\n",
    "#     z: np.ndarray = field(init=False, repr=False)\n",
    "\n",
    "#     def __post_init__(self):\n",
    "#         self.x = np.linspace(self.extent.x[0], self.extent.x[1], self.nx)\n",
    "#         self.y = np.linspace(self.extent.y[0], self.extent.y[1], self.ny)\n",
    "#         self.z = np.linspace(self.extent.z[0], self.extent.z[1], self.nz)\n"
   ]
  },
  {
   "cell_type": "code",
   "execution_count": 3,
   "metadata": {},
   "outputs": [
    {
     "name": "stdout",
     "output_type": "stream",
     "text": [
      "*MAT_KELVIN-MAXWELL_VISCOELASTIC\n",
      "$ -- Youngs = 26.11 kPa, Viscosity = 2.34 Pa.s, Tau = 89.62 ms, Poisson = 0.49900\n",
      "$ MID, DENSITY, K, G0, Gi, dc, f0, s0\n",
      "1, 1.000000, 4.35166667E+04, 17418.279, 87.091394, 4.48104175E-04, 1.0000000, 0.0000000\n",
      "*PART\n",
      "$ Title\n",
      "background\n",
      "$      pid     secid       mid     eosid      hgid      grav    adpopt      tmid\n",
      "         1         1         1         0         0         0         0         0\n",
      "*SECTION_SOLID\n",
      "$    secid    elform       aet\n",
      "         1         2         0\n",
      "\n",
      "*MAT_PML_ELASTICC\n",
      "$ MID, DENSITY, E, NU\n",
      "2, 1.0000000, 26.110000, 0.49900000\n",
      "*PART\n",
      "$ Title\n",
      "background pml\n",
      "$      pid     secid       mid     eosid      hgid      grav    adpopt      tmid\n",
      "         2         2         2         0         0         0         0         0\n",
      "*SECTION_SOLID\n",
      "$    secid    elform       aet\n",
      "         2         2         0\n",
      "\n",
      "*MAT_KELVIN-MAXWELL_VISCOELASTIC\n",
      "$ -- Youngs = 52.22 kPa, Viscosity = 2.34 Pa.s, Tau = 44.81 ms, Poisson = 0.49900\n",
      "$ MID, DENSITY, K, G0, Gi, dc, f0, s0\n",
      "3, 1.000000, 8.70333333E+04, 34836.558, 174.18279, 2.24052087E-04, 1.0000000, 0.0000000\n",
      "*PART\n",
      "$ Title\n",
      "cube\n",
      "$      pid     secid       mid     eosid      hgid      grav    adpopt      tmid\n",
      "         3         3         3         0         0         0         0         0\n",
      "*SECTION_SOLID\n",
      "$    secid    elform       aet\n",
      "         3         2         0\n",
      "\n",
      "*MAT_PML_ELASTICC\n",
      "$ MID, DENSITY, E, NU\n",
      "4, 1.0000000, 52.220000, 0.49900000\n",
      "*PART\n",
      "$ Title\n",
      "cube pml\n",
      "$      pid     secid       mid     eosid      hgid      grav    adpopt      tmid\n",
      "         4         4         4         0         0         0         0         0\n",
      "*SECTION_SOLID\n",
      "$    secid    elform       aet\n",
      "         4         2         0\n",
      "\n",
      "*MAT_KELVIN-MAXWELL_VISCOELASTIC\n",
      "$ -- Youngs = 52.22 kPa, Viscosity = 2.34 Pa.s, Tau = 44.81 ms, Poisson = 0.49900\n",
      "$ MID, DENSITY, K, G0, Gi, dc, f0, s0\n",
      "5, 1.000000, 8.70333333E+04, 34836.558, 174.18279, 2.24052087E-04, 1.0000000, 0.0000000\n",
      "*PART\n",
      "$ Title\n",
      "sphere\n",
      "$      pid     secid       mid     eosid      hgid      grav    adpopt      tmid\n",
      "         5         5         5         0         0         0         0         0\n",
      "*SECTION_SOLID\n",
      "$    secid    elform       aet\n",
      "         5         2         0\n",
      "\n",
      "*MAT_PML_ELASTICC\n",
      "$ MID, DENSITY, E, NU\n",
      "6, 1.0000000, 52.220000, 0.49900000\n",
      "*PART\n",
      "$ Title\n",
      "sphere pml\n",
      "$      pid     secid       mid     eosid      hgid      grav    adpopt      tmid\n",
      "         6         6         6         0         0         0         0         0\n",
      "*SECTION_SOLID\n",
      "$    secid    elform       aet\n",
      "         6         2         0\n",
      "\n",
      "\n"
     ]
    }
   ],
   "source": [
    "from fem.dyna.mesh import Coordinates, DynaMesh\n",
    "from fem.dyna.material import KelvinMaxwellViscoelastic\n",
    "\n",
    "mat = KelvinMaxwellViscoelastic(density=1, E=26.11, nu=0.499, eta=2.34)\n",
    "mat2 = KelvinMaxwellViscoelastic(density=1, E=2*26.11, nu=0.499, eta=2.34)\n",
    "\n",
    "struct_list = [\n",
    "    {\n",
    "        'shape': 'cube', \n",
    "        'struct_opts': [-1, -0.5, -0.5, -0, -4, -2],\n",
    "        'material': mat2,  \n",
    "    }, \n",
    "    {\n",
    "        'shape': 'sphere', \n",
    "        'struct_opts': [0, 0, -2, 1],\n",
    "        'material': mat2,  \n",
    "    }, \n",
    "]\n",
    "\n",
    "coords = Coordinates(\n",
    "    nx=11, ny=11, nz=11,\n",
    "    xmin=-1.0, xmax=0.0,\n",
    "    ymin=-1.0, ymax=0.0,\n",
    "    zmin=-4.0, zmax=0.0\n",
    ")\n",
    "symmetry = 'q'\n",
    "mesh = DynaMesh(coords, symmetry, mat)\n",
    "mesh.constrain_boundary_nodes()\n",
    "mesh.add_pml(pml_thickness=2)\n",
    "\n",
    "for struct in struct_list:\n",
    "    mesh.add_struct(**struct)\n",
    "\n",
    "# print(mesh)\n",
    "print(mesh.material_card_string)\n"
   ]
  },
  {
   "cell_type": "code",
   "execution_count": null,
   "metadata": {},
   "outputs": [],
   "source": [
    "np.unique(mesh.elems['pid'])"
   ]
  }
 ],
 "metadata": {
  "kernelspec": {
   "display_name": "fem",
   "language": "python",
   "name": "python3"
  },
  "language_info": {
   "codemirror_mode": {
    "name": "ipython",
    "version": 3
   },
   "file_extension": ".py",
   "mimetype": "text/x-python",
   "name": "python",
   "nbconvert_exporter": "python",
   "pygments_lexer": "ipython3",
   "version": "3.10.9"
  },
  "orig_nbformat": 4,
  "vscode": {
   "interpreter": {
    "hash": "943f984112ecfd890cacf39d4434d355eda4458b3ff8e51ae6a5283af1b7eed7"
   }
  }
 },
 "nbformat": 4,
 "nbformat_minor": 2
}
