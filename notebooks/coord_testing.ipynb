{
 "cells": [
  {
   "cell_type": "code",
   "execution_count": 1,
   "metadata": {},
   "outputs": [],
   "source": [
    "%load_ext autoreload\n",
    "%autoreload 2"
   ]
  },
  {
   "cell_type": "code",
   "execution_count": 5,
   "metadata": {},
   "outputs": [],
   "source": [
    "from fem.dyna.mesh import UniformCoordinates, UniformMesh\n",
    "from fem.dyna.material import Elastic\n",
    "\n",
    "mat1 = Elastic(density=1, E=15e3, nu=0.499)"
   ]
  },
  {
   "cell_type": "code",
   "execution_count": 17,
   "metadata": {},
   "outputs": [
    {
     "name": "stderr",
     "output_type": "stream",
     "text": [
      "/nas/longleaf/home/joeyr/repos/fem/fem/dyna/mesh.py:148: UserWarning: No zero crossing found on y axis. Make sure ymin and ymax coordinate extents are equal magnitude and the ny is odd\n",
      "  warnings.warn(f\"No zero crossing found on {v_str} axis. Make sure {v_str}min and {v_str}max coordinate extents are equal magnitude and the n{v_str} is odd\")\n"
     ]
    }
   ],
   "source": [
    "\n",
    "coords = UniformCoordinates(\n",
    "    nx=5, ny=5, nz=11,\n",
    "    xmin=-1.5, xmax=1.5,  # ele\n",
    "    ymin=-1.5, ymax=1.0,  # lat\n",
    "    zmin=-4.0, zmax=-0.5   # ax\n",
    ")\n",
    "symmetry = 'n'\n",
    "mesh = UniformMesh(coords, symmetry, mat1)"
   ]
  }
 ],
 "metadata": {
  "kernelspec": {
   "display_name": "fem",
   "language": "python",
   "name": "python3"
  },
  "language_info": {
   "codemirror_mode": {
    "name": "ipython",
    "version": 3
   },
   "file_extension": ".py",
   "mimetype": "text/x-python",
   "name": "python",
   "nbconvert_exporter": "python",
   "pygments_lexer": "ipython3",
   "version": "3.11.0"
  },
  "orig_nbformat": 4
 },
 "nbformat": 4,
 "nbformat_minor": 2
}
